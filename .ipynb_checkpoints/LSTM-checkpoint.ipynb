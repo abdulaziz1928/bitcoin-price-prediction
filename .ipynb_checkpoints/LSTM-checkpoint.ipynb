{
 "cells": [
  {
   "cell_type": "code",
   "execution_count": 265,
   "id": "13183b8b",
   "metadata": {},
   "outputs": [],
   "source": [
    "#imports\n",
    "import numpy as np\n",
    "import pandas as pd\n",
    "import torch\n",
    "import torch.nn as nn\n",
    "import torch.optim as optim\n",
    "from torch.autograd import Variable \n",
    "from sklearn.preprocessing import StandardScaler, MinMaxScaler\n",
    "import matplotlib.pyplot as plt\n",
    "from IPython.display import display\n",
    "%matplotlib inline\n",
    "%config inlineBackend.figure_format='retina'\n"
   ]
  },
  {
   "cell_type": "code",
   "execution_count": 474,
   "id": "43cc9f2d",
   "metadata": {
    "scrolled": true
   },
   "outputs": [
    {
     "data": {
      "text/html": [
       "<div>\n",
       "<style scoped>\n",
       "    .dataframe tbody tr th:only-of-type {\n",
       "        vertical-align: middle;\n",
       "    }\n",
       "\n",
       "    .dataframe tbody tr th {\n",
       "        vertical-align: top;\n",
       "    }\n",
       "\n",
       "    .dataframe thead th {\n",
       "        text-align: right;\n",
       "    }\n",
       "</style>\n",
       "<table border=\"1\" class=\"dataframe\">\n",
       "  <thead>\n",
       "    <tr style=\"text-align: right;\">\n",
       "      <th></th>\n",
       "      <th>Open</th>\n",
       "      <th>High</th>\n",
       "      <th>Low</th>\n",
       "      <th>Sentiment</th>\n",
       "      <th>Close</th>\n",
       "    </tr>\n",
       "    <tr>\n",
       "      <th>Date</th>\n",
       "      <th></th>\n",
       "      <th></th>\n",
       "      <th></th>\n",
       "      <th></th>\n",
       "      <th></th>\n",
       "    </tr>\n",
       "  </thead>\n",
       "  <tbody>\n",
       "    <tr>\n",
       "      <th>2021-04-17</th>\n",
       "      <td>61529.92188</td>\n",
       "      <td>62572.17578</td>\n",
       "      <td>60361.35156</td>\n",
       "      <td>76</td>\n",
       "      <td>60683.82031</td>\n",
       "    </tr>\n",
       "    <tr>\n",
       "      <th>2021-04-18</th>\n",
       "      <td>60701.88672</td>\n",
       "      <td>61057.45703</td>\n",
       "      <td>52829.53516</td>\n",
       "      <td>79</td>\n",
       "      <td>56216.18359</td>\n",
       "    </tr>\n",
       "    <tr>\n",
       "      <th>2021-04-19</th>\n",
       "      <td>56191.58594</td>\n",
       "      <td>57520.05469</td>\n",
       "      <td>54368.59375</td>\n",
       "      <td>74</td>\n",
       "      <td>55724.26563</td>\n",
       "    </tr>\n",
       "    <tr>\n",
       "      <th>2021-04-20</th>\n",
       "      <td>55681.79297</td>\n",
       "      <td>57062.14844</td>\n",
       "      <td>53448.04688</td>\n",
       "      <td>73</td>\n",
       "      <td>56473.03125</td>\n",
       "    </tr>\n",
       "    <tr>\n",
       "      <th>2021-04-21</th>\n",
       "      <td>56471.12891</td>\n",
       "      <td>56757.97266</td>\n",
       "      <td>53695.46875</td>\n",
       "      <td>73</td>\n",
       "      <td>53906.08984</td>\n",
       "    </tr>\n",
       "  </tbody>\n",
       "</table>\n",
       "</div>"
      ],
      "text/plain": [
       "                   Open         High          Low  Sentiment        Close\n",
       "Date                                                                     \n",
       "2021-04-17  61529.92188  62572.17578  60361.35156         76  60683.82031\n",
       "2021-04-18  60701.88672  61057.45703  52829.53516         79  56216.18359\n",
       "2021-04-19  56191.58594  57520.05469  54368.59375         74  55724.26563\n",
       "2021-04-20  55681.79297  57062.14844  53448.04688         73  56473.03125\n",
       "2021-04-21  56471.12891  56757.97266  53695.46875         73  53906.08984"
      ]
     },
     "metadata": {},
     "output_type": "display_data"
    }
   ],
   "source": [
    "#preproccessing\n",
    "data = pd.read_csv(\"BTC-USD-Daily-With-Sentiment.csv\", index_col ='Date', parse_dates=True)\n",
    "display(data.head(5))"
   ]
  },
  {
   "cell_type": "code",
   "execution_count": 587,
   "id": "91897c43",
   "metadata": {},
   "outputs": [
    {
     "data": {
      "text/plain": [
       "<AxesSubplot:title={'center':'btc close'}, xlabel='Date'>"
      ]
     },
     "execution_count": 587,
     "metadata": {},
     "output_type": "execute_result"
    },
    {
     "data": {
      "image/png": "[encoded data removed]",
      "text/plain": [
       "<Figure size 432x288 with 1 Axes>"
      ]
     },
     "metadata": {
      "needs_background": "light"
     },
     "output_type": "display_data"
    }
   ],
   "source": [
    "data['Close'].plot(label='Close', title='btc close')"
   ]
  },
  {
   "cell_type": "code",
   "execution_count": 476,
   "id": "8cb6ad96",
   "metadata": {},
   "outputs": [],
   "source": [
    "# del data['Adj Close']"
   ]
  },
  {
   "cell_type": "code",
   "execution_count": 477,
   "id": "ae74cc0c",
   "metadata": {},
   "outputs": [],
   "source": [
    "# data=data.iloc[:, [0,3,4]]\n",
    "# display(data.head(5))\n"
   ]
  },
  {
   "cell_type": "code",
   "execution_count": 478,
   "id": "6c7d56f8",
   "metadata": {},
   "outputs": [
    {
     "data": {
      "text/html": [
       "<div>\n",
       "<style scoped>\n",
       "    .dataframe tbody tr th:only-of-type {\n",
       "        vertical-align: middle;\n",
       "    }\n",
       "\n",
       "    .dataframe tbody tr th {\n",
       "        vertical-align: top;\n",
       "    }\n",
       "\n",
       "    .dataframe thead th {\n",
       "        text-align: right;\n",
       "    }\n",
       "</style>\n",
       "<table border=\"1\" class=\"dataframe\">\n",
       "  <thead>\n",
       "    <tr style=\"text-align: right;\">\n",
       "      <th></th>\n",
       "      <th>Open</th>\n",
       "      <th>High</th>\n",
       "      <th>Low</th>\n",
       "      <th>Sentiment</th>\n",
       "    </tr>\n",
       "    <tr>\n",
       "      <th>Date</th>\n",
       "      <th></th>\n",
       "      <th></th>\n",
       "      <th></th>\n",
       "      <th></th>\n",
       "    </tr>\n",
       "  </thead>\n",
       "  <tbody>\n",
       "    <tr>\n",
       "      <th>2021-04-17</th>\n",
       "      <td>61529.92188</td>\n",
       "      <td>62572.17578</td>\n",
       "      <td>60361.35156</td>\n",
       "      <td>76</td>\n",
       "    </tr>\n",
       "    <tr>\n",
       "      <th>2021-04-18</th>\n",
       "      <td>60701.88672</td>\n",
       "      <td>61057.45703</td>\n",
       "      <td>52829.53516</td>\n",
       "      <td>79</td>\n",
       "    </tr>\n",
       "    <tr>\n",
       "      <th>2021-04-19</th>\n",
       "      <td>56191.58594</td>\n",
       "      <td>57520.05469</td>\n",
       "      <td>54368.59375</td>\n",
       "      <td>74</td>\n",
       "    </tr>\n",
       "    <tr>\n",
       "      <th>2021-04-20</th>\n",
       "      <td>55681.79297</td>\n",
       "      <td>57062.14844</td>\n",
       "      <td>53448.04688</td>\n",
       "      <td>73</td>\n",
       "    </tr>\n",
       "    <tr>\n",
       "      <th>2021-04-21</th>\n",
       "      <td>56471.12891</td>\n",
       "      <td>56757.97266</td>\n",
       "      <td>53695.46875</td>\n",
       "      <td>73</td>\n",
       "    </tr>\n",
       "  </tbody>\n",
       "</table>\n",
       "</div>"
      ],
      "text/plain": [
       "                   Open         High          Low  Sentiment\n",
       "Date                                                        \n",
       "2021-04-17  61529.92188  62572.17578  60361.35156         76\n",
       "2021-04-18  60701.88672  61057.45703  52829.53516         79\n",
       "2021-04-19  56191.58594  57520.05469  54368.59375         74\n",
       "2021-04-20  55681.79297  57062.14844  53448.04688         73\n",
       "2021-04-21  56471.12891  56757.97266  53695.46875         73"
      ]
     },
     "metadata": {},
     "output_type": "display_data"
    },
    {
     "data": {
      "text/html": [
       "<div>\n",
       "<style scoped>\n",
       "    .dataframe tbody tr th:only-of-type {\n",
       "        vertical-align: middle;\n",
       "    }\n",
       "\n",
       "    .dataframe tbody tr th {\n",
       "        vertical-align: top;\n",
       "    }\n",
       "\n",
       "    .dataframe thead th {\n",
       "        text-align: right;\n",
       "    }\n",
       "</style>\n",
       "<table border=\"1\" class=\"dataframe\">\n",
       "  <thead>\n",
       "    <tr style=\"text-align: right;\">\n",
       "      <th></th>\n",
       "      <th>Close</th>\n",
       "    </tr>\n",
       "    <tr>\n",
       "      <th>Date</th>\n",
       "      <th></th>\n",
       "    </tr>\n",
       "  </thead>\n",
       "  <tbody>\n",
       "    <tr>\n",
       "      <th>2021-04-17</th>\n",
       "      <td>60683.82031</td>\n",
       "    </tr>\n",
       "    <tr>\n",
       "      <th>2021-04-18</th>\n",
       "      <td>56216.18359</td>\n",
       "    </tr>\n",
       "    <tr>\n",
       "      <th>2021-04-19</th>\n",
       "      <td>55724.26563</td>\n",
       "    </tr>\n",
       "    <tr>\n",
       "      <th>2021-04-20</th>\n",
       "      <td>56473.03125</td>\n",
       "    </tr>\n",
       "    <tr>\n",
       "      <th>2021-04-21</th>\n",
       "      <td>53906.08984</td>\n",
       "    </tr>\n",
       "  </tbody>\n",
       "</table>\n",
       "</div>"
      ],
      "text/plain": [
       "                  Close\n",
       "Date                   \n",
       "2021-04-17  60683.82031\n",
       "2021-04-18  56216.18359\n",
       "2021-04-19  55724.26563\n",
       "2021-04-20  56473.03125\n",
       "2021-04-21  53906.08984"
      ]
     },
     "metadata": {},
     "output_type": "display_data"
    }
   ],
   "source": [
    "#splitting features and labels\n",
    "x=data.iloc[:, :-1]\n",
    "y=data.iloc[:, 4:5]\n",
    "\n",
    "display(x.head(5))\n",
    "display(y.head(5))"
   ]
  },
  {
   "cell_type": "code",
   "execution_count": 479,
   "id": "69908ec9",
   "metadata": {},
   "outputs": [],
   "source": [
    "#Normalizing the data\n",
    "scaler_s = StandardScaler()\n",
    "scaler_mm = MinMaxScaler()\n",
    "\n",
    "x_normalized = scaler_s.fit_transform(x)\n",
    "y_normalized = scaler_mm.fit_transform(y) "
   ]
  },
  {
   "cell_type": "code",
   "execution_count": 480,
   "id": "cad6ca9d",
   "metadata": {},
   "outputs": [],
   "source": [
    "# splitting the data\n",
    "size=int(len(x_normalized)*0.8)\n",
    "\n",
    "X_train = x_normalized[:size, :]\n",
    "X_test = x_normalized[size:, :]\n",
    "\n",
    "y_train = y_normalized[:size, :]\n",
    "y_test = y_normalized[size:, :]"
   ]
  },
  {
   "cell_type": "code",
   "execution_count": 481,
   "id": "623799a6",
   "metadata": {
    "scrolled": true
   },
   "outputs": [
    {
     "data": {
      "image/png": "[encoded data removed]",
      "text/plain": [
       "<Figure size 432x288 with 1 Axes>"
      ]
     },
     "metadata": {
      "needs_background": "light"
     },
     "output_type": "display_data"
    }
   ],
   "source": [
    "plt.plot(data['Close'],label='BTC daily close')\n",
    "plt.legend()\n",
    "plt.show()"
   ]
  },
  {
   "cell_type": "code",
   "execution_count": 482,
   "id": "367ebf74",
   "metadata": {},
   "outputs": [
    {
     "name": "stdout",
     "output_type": "stream",
     "text": [
      "Train set shape x,y (292, 4) (292, 1)\n",
      "Test set shape x,y  (74, 4) (74, 1)\n"
     ]
    }
   ],
   "source": [
    "print(\"Train set shape x,y\", X_train.shape, y_train.shape)\n",
    "print(\"Test set shape x,y \", X_test.shape, y_test.shape) "
   ]
  },
  {
   "cell_type": "code",
   "execution_count": 483,
   "id": "6bea5c19",
   "metadata": {},
   "outputs": [],
   "source": [
    "# transforming sets to tensors\n",
    "X_train = Variable(torch.Tensor(X_train))\n",
    "X_test = Variable(torch.Tensor(X_test))\n",
    "\n",
    "y_train = Variable(torch.Tensor(y_train))\n",
    "y_test = Variable(torch.Tensor(y_test)) "
   ]
  },
  {
   "cell_type": "code",
   "execution_count": 484,
   "id": "4e5b5743",
   "metadata": {},
   "outputs": [
    {
     "name": "stdout",
     "output_type": "stream",
     "text": [
      "Train set shape x,y torch.Size([292, 1, 4]) torch.Size([292, 1])\n",
      "Test set shape x,y  torch.Size([74, 1, 4]) torch.Size([74, 1])\n"
     ]
    }
   ],
   "source": [
    "#reshaping x tensors\n",
    "X_train_f = torch.reshape(X_train, (X_train.shape[0], 1, X_train.shape[1]) )\n",
    "\n",
    "X_test_f = torch.reshape(X_test, (X_test.shape[0], 1, X_test.shape[1]) ) \n",
    "print(\"Train set shape x,y\", X_train_f.shape, y_train.shape)\n",
    "print(\"Test set shape x,y \", X_test_f.shape, y_test.shape) "
   ]
  },
  {
   "cell_type": "code",
   "execution_count": 485,
   "id": "1bd9803c",
   "metadata": {},
   "outputs": [],
   "source": [
    "def set(x,y):\n",
    "    x=x.type(torch.FloatTensor)\n",
    "    y=y.type(torch.FloatTensor)\n",
    "    \n",
    "    train_data = []\n",
    "    for i in range(len(x)):\n",
    "        train_data.append([x[i], y[i]])\n",
    "    return train_data"
   ]
  },
  {
   "cell_type": "code",
   "execution_count": 486,
   "id": "27e2b8f5",
   "metadata": {
    "scrolled": true
   },
   "outputs": [
    {
     "data": {
      "image/png": "[encoded data removed]",
      "text/plain": [
       "<Figure size 432x288 with 1 Axes>"
      ]
     },
     "metadata": {
      "needs_background": "light"
     },
     "output_type": "display_data"
    }
   ],
   "source": [
    "plt.plot(y_train.numpy(),label='train')\n",
    "plt.plot(y_test.numpy(),label='test')\n",
    "plt.legend()\n",
    "plt.show()"
   ]
  },
  {
   "cell_type": "code",
   "execution_count": 487,
   "id": "f4eb56bf",
   "metadata": {},
   "outputs": [],
   "source": [
    "train_set=set(X_train_f,y_train)\n",
    "test_set=set(X_test_f,y_test)\n",
    "\n",
    "\n",
    "testloader = torch.utils.data.DataLoader(test_set,batch_size=64, shuffle=False)\n",
    "trainloader = torch.utils.data.DataLoader(train_set,batch_size=64, shuffle=False)"
   ]
  },
  {
   "cell_type": "code",
   "execution_count": 512,
   "id": "79dad2d1",
   "metadata": {},
   "outputs": [],
   "source": [
    "#Model\n",
    "class MyLSTM(nn.Module):\n",
    "    def __init__(self,n_inputs,n_hidden=256,n_layers=3):\n",
    "        super().__init__()\n",
    "        self.n_hidden=n_hidden\n",
    "        \n",
    "        self.lstm=nn.LSTM(\n",
    "            input_size=n_inputs,\n",
    "            hidden_size=n_hidden,\n",
    "            num_layers=n_layers,\n",
    "            dropout=0.2,\n",
    "            batch_first=True\n",
    "        )\n",
    "        \n",
    "        self.fc1=nn.Linear(self.n_hidden,1)\n",
    "        \n",
    "    def forward(self,x):\n",
    "        _,(h_t,_)=self.lstm(x)\n",
    "        \n",
    "        x=self.fc1(h_t[-1])\n",
    "        return x"
   ]
  },
  {
   "cell_type": "code",
   "execution_count": 519,
   "id": "f34ac9e7",
   "metadata": {},
   "outputs": [],
   "source": [
    "#Init Model,criterion,optimizer\n",
    "n_inputs=4 ####\n",
    "model=MyLSTM(n_inputs)\n",
    "criterion=nn.MSELoss()\n",
    "optimizer=optim.Adam(model.parameters(),lr=0.0001)\n",
    "min_validation_loss=np.Infinity\n",
    "training_losses,validation_losses=[],[]"
   ]
  },
  {
   "cell_type": "code",
   "execution_count": 534,
   "id": "145858b6",
   "metadata": {
    "scrolled": true
   },
   "outputs": [
    {
     "name": "stdout",
     "output_type": "stream",
     "text": [
      "Epoch 10/2000,  Training loss: 0.00054,  Validation loss: 0.00014,  \n",
      "Epoch 20/2000,  Training loss: 0.00053,  Validation loss: 0.00014,  \n",
      "Epoch 30/2000,  Training loss: 0.00053,  Validation loss: 0.00014,  \n",
      "Epoch 40/2000,  Training loss: 0.00052,  Validation loss: 0.00015,  \n",
      "Epoch 50/2000,  Training loss: 0.00054,  Validation loss: 0.00014,  \n",
      "Epoch 60/2000,  Training loss: 0.00052,  Validation loss: 0.00015,  \n",
      "Epoch 70/2000,  Training loss: 0.00052,  Validation loss: 0.00015,  \n",
      "Epoch 80/2000,  Training loss: 0.00051,  Validation loss: 0.00015,  \n",
      "Epoch 90/2000,  Training loss: 0.00054,  Validation loss: 0.00015,  \n",
      "Epoch 100/2000,  Training loss: 0.00051,  Validation loss: 0.00014,  \n",
      "Epoch 110/2000,  Training loss: 0.00052,  Validation loss: 0.00015,  \n",
      "Epoch 120/2000,  Training loss: 0.00053,  Validation loss: 0.00014,  \n",
      "Epoch 130/2000,  Training loss: 0.00053,  Validation loss: 0.00015,  \n",
      "Epoch 140/2000,  Training loss: 0.00051,  Validation loss: 0.00015,  \n",
      "Epoch 150/2000,  Training loss: 0.00051,  Validation loss: 0.00015,  \n",
      "Epoch 160/2000,  Training loss: 0.00052,  Validation loss: 0.00014,  \n",
      "Epoch 170/2000,  Training loss: 0.00053,  Validation loss: 0.00014,  \n",
      "Epoch 180/2000,  Training loss: 0.00051,  Validation loss: 0.00015,  \n",
      "Epoch 190/2000,  Training loss: 0.00054,  Validation loss: 0.00015,  \n",
      "Epoch 200/2000,  Training loss: 0.00053,  Validation loss: 0.00016,  \n",
      "Epoch 210/2000,  Training loss: 0.00053,  Validation loss: 0.00015,  \n",
      "Epoch 220/2000,  Training loss: 0.00051,  Validation loss: 0.00015,  \n",
      "Epoch 230/2000,  Training loss: 0.00052,  Validation loss: 0.00015,  \n",
      "Epoch 240/2000,  Training loss: 0.00052,  Validation loss: 0.00015,  \n",
      "Epoch 250/2000,  Training loss: 0.00053,  Validation loss: 0.00015,  \n",
      "Epoch 260/2000,  Training loss: 0.00051,  Validation loss: 0.00015,  \n",
      "Epoch 270/2000,  Training loss: 0.00051,  Validation loss: 0.00015,  \n",
      "Epoch 280/2000,  Training loss: 0.00053,  Validation loss: 0.00015,  \n",
      "Epoch 290/2000,  Training loss: 0.00052,  Validation loss: 0.00015,  \n",
      "Epoch 300/2000,  Training loss: 0.00052,  Validation loss: 0.00015,  \n",
      "Epoch 310/2000,  Training loss: 0.00051,  Validation loss: 0.00015,  \n",
      "Epoch 320/2000,  Training loss: 0.00050,  Validation loss: 0.00015,  \n",
      "Epoch 330/2000,  Training loss: 0.00051,  Validation loss: 0.00015,  \n",
      "Epoch 340/2000,  Training loss: 0.00051,  Validation loss: 0.00015,  \n",
      "Epoch 350/2000,  Training loss: 0.00052,  Validation loss: 0.00015,  \n",
      "Epoch 360/2000,  Training loss: 0.00051,  Validation loss: 0.00015,  \n",
      "Epoch 370/2000,  Training loss: 0.00051,  Validation loss: 0.00015,  \n",
      "Epoch 380/2000,  Training loss: 0.00050,  Validation loss: 0.00015,  \n",
      "Epoch 390/2000,  Training loss: 0.00051,  Validation loss: 0.00015,  \n",
      "Epoch 400/2000,  Training loss: 0.00051,  Validation loss: 0.00015,  \n",
      "Epoch 410/2000,  Training loss: 0.00053,  Validation loss: 0.00016,  \n",
      "Epoch 420/2000,  Training loss: 0.00051,  Validation loss: 0.00015,  \n",
      "Epoch 430/2000,  Training loss: 0.00051,  Validation loss: 0.00015,  \n",
      "Epoch 440/2000,  Training loss: 0.00049,  Validation loss: 0.00016,  \n",
      "Epoch 450/2000,  Training loss: 0.00050,  Validation loss: 0.00015,  \n",
      "Epoch 460/2000,  Training loss: 0.00052,  Validation loss: 0.00015,  \n",
      "Epoch 470/2000,  Training loss: 0.00050,  Validation loss: 0.00015,  \n",
      "Epoch 480/2000,  Training loss: 0.00050,  Validation loss: 0.00015,  \n",
      "Epoch 490/2000,  Training loss: 0.00048,  Validation loss: 0.00015,  \n",
      "Epoch 500/2000,  Training loss: 0.00049,  Validation loss: 0.00015,  \n",
      "Epoch 510/2000,  Training loss: 0.00048,  Validation loss: 0.00015,  \n",
      "Epoch 520/2000,  Training loss: 0.00050,  Validation loss: 0.00015,  \n",
      "Epoch 530/2000,  Training loss: 0.00052,  Validation loss: 0.00015,  \n",
      "Epoch 540/2000,  Training loss: 0.00051,  Validation loss: 0.00015,  \n",
      "Epoch 550/2000,  Training loss: 0.00050,  Validation loss: 0.00015,  \n",
      "Epoch 560/2000,  Training loss: 0.00050,  Validation loss: 0.00015,  \n"
     ]
    },
    {
     "ename": "KeyboardInterrupt",
     "evalue": "",
     "output_type": "error",
     "traceback": [
      "\u001b[1;31m---------------------------------------------------------------------------\u001b[0m",
      "\u001b[1;31mKeyboardInterrupt\u001b[0m                         Traceback (most recent call last)",
      "\u001b[1;32mC:\\Users\\ABDULA~1\\AppData\\Local\\Temp/ipykernel_31556/2622215836.py\u001b[0m in \u001b[0;36m<module>\u001b[1;34m\u001b[0m\n\u001b[0;32m     19\u001b[0m         \u001b[0mloss\u001b[0m\u001b[1;33m.\u001b[0m\u001b[0mbackward\u001b[0m\u001b[1;33m(\u001b[0m\u001b[1;33m)\u001b[0m\u001b[1;33m\u001b[0m\u001b[1;33m\u001b[0m\u001b[0m\n\u001b[0;32m     20\u001b[0m         \u001b[0moptimizer\u001b[0m\u001b[1;33m.\u001b[0m\u001b[0mstep\u001b[0m\u001b[1;33m(\u001b[0m\u001b[1;33m)\u001b[0m\u001b[1;33m\u001b[0m\u001b[1;33m\u001b[0m\u001b[0m\n\u001b[1;32m---> 21\u001b[1;33m         \u001b[0mrunning_loss\u001b[0m \u001b[1;33m+=\u001b[0m \u001b[0mloss\u001b[0m\u001b[1;33m.\u001b[0m\u001b[0mitem\u001b[0m\u001b[1;33m(\u001b[0m\u001b[1;33m)\u001b[0m\u001b[1;33m\u001b[0m\u001b[1;33m\u001b[0m\u001b[0m\n\u001b[0m\u001b[0;32m     22\u001b[0m \u001b[1;33m\u001b[0m\u001b[0m\n\u001b[0;32m     23\u001b[0m         \u001b[1;31m#testing\u001b[0m\u001b[1;33m\u001b[0m\u001b[1;33m\u001b[0m\u001b[0m\n",
      "\u001b[1;31mKeyboardInterrupt\u001b[0m: "
     ]
    }
   ],
   "source": [
    "#Model Training\n",
    "\n",
    "device = torch.device(\"cuda\" if torch.cuda.is_available() else \"cpu\")\n",
    "epochs= 2000\n",
    "steps,running_loss,test_loss=0,0,0\n",
    "model.to(device)\n",
    "validate_every = 50\n",
    "\n",
    "for e in range(epochs):\n",
    "    \n",
    "    #training\n",
    "    for inputs, labels in trainloader:\n",
    "        steps+=1\n",
    "        inputs, labels= inputs.to(device), labels.to(device)\n",
    "        \n",
    "        optimizer.zero_grad()\n",
    "        logps = model.forward(inputs)\n",
    "        loss = criterion(logps, labels)\n",
    "        loss.backward()\n",
    "        optimizer.step()\n",
    "        running_loss += loss.item()\n",
    "        \n",
    "        #testing\n",
    "        if steps % validate_every == 0:\n",
    "            validation_loss = 0\n",
    "            model.eval()\n",
    "            with torch.no_grad():\n",
    "                for inputs, labels in testloader:\n",
    "                    inputs, labels= inputs.to(device), labels.to(device)\n",
    "                    logps = model.forward(inputs)\n",
    "                    v_loss = criterion(logps, labels)\n",
    "                    validation_loss+=v_loss.item()\n",
    "            \n",
    "            model.train()\n",
    "            \n",
    "            avg_validation_loss=validation_loss/len(testloader)\n",
    "            \n",
    "            print(f\"Epoch {e+1}/{epochs},  \"\n",
    "                  f\"Training loss: {running_loss/validate_every:.5f},  \"\n",
    "                  f\"Validation loss: {avg_validation_loss:.5f},  \")\n",
    "            \n",
    "            training_losses.append(running_loss/validate_every)\n",
    "            validation_losses.append(avg_validation_loss)\n",
    "            \n",
    "            #Saving better model\n",
    "            if avg_validation_loss<min_validation_loss:\n",
    "                print(f\"Saving better model\")\n",
    "                min_validation_loss=avg_validation_loss\n",
    "                torch.save( model.state_dict(), 'lstm_model_dict.pt')\n",
    "              \n",
    "            running_loss = 0\n"
   ]
  },
  {
   "cell_type": "code",
   "execution_count": 586,
   "id": "8fbdd5df",
   "metadata": {},
   "outputs": [
    {
     "data": {
      "image/png": "[encoded data removed]",
      "text/plain": [
       "<Figure size 432x288 with 1 Axes>"
      ]
     },
     "metadata": {
      "needs_background": "light"
     },
     "output_type": "display_data"
    }
   ],
   "source": [
    "#plotting Losses\n",
    "#removed first 10 entries for better visualization\n",
    "plt.plot(training_losses[10:],label='Train loss')\n",
    "plt.plot(validation_losses[10:],label='Validation loss')\n",
    "plt.legend()\n",
    "plt.show()"
   ]
  },
  {
   "cell_type": "code",
   "execution_count": 538,
   "id": "8ff9f15f",
   "metadata": {},
   "outputs": [
    {
     "data": {
      "text/plain": [
       "<All keys matched successfully>"
      ]
     },
     "execution_count": 538,
     "metadata": {},
     "output_type": "execute_result"
    }
   ],
   "source": [
    "#Loading the best model after training\n",
    "model.load_state_dict(torch.load('lstm_model_dict.pt'))"
   ]
  },
  {
   "cell_type": "code",
   "execution_count": 556,
   "id": "2d39297b",
   "metadata": {},
   "outputs": [
    {
     "data": {
      "text/plain": [
       "MyLSTM(\n",
       "  (lstm): LSTM(4, 256, num_layers=3, batch_first=True, dropout=0.2)\n",
       "  (fc1): Linear(in_features=256, out_features=1, bias=True)\n",
       ")"
      ]
     },
     "execution_count": 556,
     "metadata": {},
     "output_type": "execute_result"
    }
   ],
   "source": [
    "#predicting the testing set\n",
    "model.eval()\n",
    "prediction=[]\n",
    "labelss=[]       \n",
    "with torch.no_grad():\n",
    "    for inputs, labels in testloader:\n",
    "        inputs, labels= inputs.to(device), labels.to(device)\n",
    "        logps = model.forward(inputs).cpu().data.numpy()\n",
    "        prediction+=(logps.tolist())\n",
    "        labelss+=labels.tolist()\n",
    "        \n",
    "model.train()"
   ]
  },
  {
   "cell_type": "code",
   "execution_count": 557,
   "id": "93e9a697",
   "metadata": {
    "scrolled": true
   },
   "outputs": [
    {
     "data": {
      "image/png": "[encoded data removed]",
      "text/plain": [
       "<Figure size 432x288 with 1 Axes>"
      ]
     },
     "metadata": {
      "needs_background": "light"
     },
     "output_type": "display_data"
    }
   ],
   "source": [
    "#plotting the predictions \n",
    "prediction_f=scaler_mm.inverse_transform(prediction) \n",
    "labels_f=scaler_mm.inverse_transform(labelss) \n",
    "plt.plot(prediction_f,label='prediction')\n",
    "plt.plot(labels_f,label='labels')\n",
    "plt.legend()\n",
    "plt.show()"
   ]
  },
  {
   "cell_type": "code",
   "execution_count": 582,
   "id": "0021dbb1",
   "metadata": {},
   "outputs": [
    {
     "name": "stdout",
     "output_type": "stream",
     "text": [
      "MSE 0.0001639,  R2 Score: 0.9685869\n"
     ]
    }
   ],
   "source": [
    "from sklearn.metrics import mean_squared_error,r2_score\n",
    "print(f\"MSE {mean_squared_error(y_true=labelss,y_pred=prediction):.7f},  \"\n",
    "     f\"R2 Score: {r2_score(y_true=labelss,y_pred=prediction):.7f}\")"
   ]
  },
  {
   "cell_type": "code",
   "execution_count": 583,
   "id": "31e110f6",
   "metadata": {},
   "outputs": [
    {
     "name": "stdout",
     "output_type": "stream",
     "text": [
      "[[41463.047]]\n"
     ]
    }
   ],
   "source": [
    "# predicting the closing price of a day\n",
    "\n",
    "\n",
    "# Apr 20, 2022 close was 41374.38\n",
    "input_val = {\n",
    "    'Open' : [41501.75],\n",
    "    'High': [42126.30],\n",
    "    'Low' : [40961.10],\n",
    "    'Sentiment' : [27],\n",
    "}\n",
    "model.eval()\n",
    "with torch.no_grad():\n",
    "    tx=pd.DataFrame(input_val)\n",
    "    tx = scaler_s.transform(tx)\n",
    "    tx=Variable(torch.Tensor(tx))\n",
    "    tx = torch.reshape(tx, (tx.shape[0], 1, tx.shape[1]) )\n",
    "    model.to(torch.device('cpu'))\n",
    "    pred=model.forward(tx).cpu().data.numpy()\n",
    "    pred=scaler_mm.inverse_transform(pred) \n",
    "model.train()\n",
    "print(pred)\n"
   ]
  },
  {
   "cell_type": "code",
   "execution_count": 584,
   "id": "527347e7",
   "metadata": {},
   "outputs": [],
   "source": [
    "#Saving Model\n",
    "checkpoint={'state_dict': model.state_dict(),\n",
    "            'inputs': n_inputs,\n",
    "            'optimizer': optimizer,\n",
    "            'criterion': criterion,\n",
    "            'input_scaler_standard': scaler_s,\n",
    "            'output_scaler_midmax': scaler_mm,\n",
    "            'model': model}\n",
    "torch.save(checkpoint, 'checkpoint-sentiment.pth')"
   ]
  }
 ],
 "metadata": {
  "kernelspec": {
   "display_name": "Python 3 (ipykernel)",
   "language": "python",
   "name": "python3"
  },
  "language_info": {
   "codemirror_mode": {
    "name": "ipython",
    "version": 3
   },
   "file_extension": ".py",
   "mimetype": "text/x-python",
   "name": "python",
   "nbconvert_exporter": "python",
   "pygments_lexer": "ipython3",
   "version": "3.9.7"
  }
 },
 "nbformat": 4,
 "nbformat_minor": 5
}
