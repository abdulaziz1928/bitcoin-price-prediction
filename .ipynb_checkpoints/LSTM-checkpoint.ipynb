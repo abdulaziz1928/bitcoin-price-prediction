{
 "cells": [
  {
   "cell_type": "code",
   "execution_count": 1,
   "id": "13183b8b",
   "metadata": {},
   "outputs": [],
   "source": [
    "#imports\n",
    "import numpy as np\n",
    "import torch\n",
    "import torch.nn as nn\n",
    "import torch.optim as optim\n",
    "import matplotlib.pyplot as plt"
   ]
  },
  {
   "cell_type": "code",
   "execution_count": 10,
   "id": "43cc9f2d",
   "metadata": {},
   "outputs": [],
   "source": [
    "#preproccessing"
   ]
  },
  {
   "cell_type": "code",
   "execution_count": null,
   "id": "2d23b76b",
   "metadata": {},
   "outputs": [],
   "source": [
    "trainloader=None\n",
    "#..."
   ]
  },
  {
   "cell_type": "code",
   "execution_count": 9,
   "id": "79dad2d1",
   "metadata": {},
   "outputs": [],
   "source": [
    "#Model\n",
    "class MyLSTM(nn.Module):\n",
    "    def __init__(self,n_inputs,n_hidden=256,n_layers=3):\n",
    "        super().__init__()\n",
    "        self.n_hidden=n_hidden\n",
    "        \n",
    "        self.lstm=nn.LSTM(\n",
    "            input_size=n_inputs,\n",
    "            hidden_size=n_hidden,\n",
    "            num_layers=n_layers,\n",
    "            dropout=0.2,\n",
    "            batch_first=True\n",
    "        )\n",
    "        \n",
    "        self.fc1=nn.Linear(self.n_hidden,1)\n",
    "        \n",
    "    def forward(self,x):\n",
    "        _,(h_t,_)=self.lstm(x)\n",
    "        \n",
    "        x=self.fc1(h_t[-1])\n",
    "        return x"
   ]
  },
  {
   "cell_type": "code",
   "execution_count": null,
   "id": "f34ac9e7",
   "metadata": {},
   "outputs": [],
   "source": [
    "#Init Model,criterion,optimizer\n",
    "n_inputs=None  ####\n",
    "model=MyLSTM(n_inputs)\n",
    "criterion=nn.MSELoss\n",
    "optimizer=optim.Adam(model.parameters(),lr=0.0001)"
   ]
  },
  {
   "cell_type": "code",
   "execution_count": null,
   "id": "145858b6",
   "metadata": {},
   "outputs": [],
   "source": [
    "#Model Training\n",
    "#..."
   ]
  },
  {
   "cell_type": "code",
   "execution_count": null,
   "id": "8fbdd5df",
   "metadata": {},
   "outputs": [],
   "source": [
    "#plot\n",
    "#..."
   ]
  },
  {
   "cell_type": "code",
   "execution_count": null,
   "id": "2d39297b",
   "metadata": {},
   "outputs": [],
   "source": []
  },
  {
   "cell_type": "code",
   "execution_count": null,
   "id": "527347e7",
   "metadata": {},
   "outputs": [],
   "source": [
    "#Saving Model\n",
    "checkpoint={'state_dict': model.state_dict(),\n",
    "            'inputs': n_inputs,\n",
    "            'optimizer': optimizer,\n",
    "            'criterion': criterion,\n",
    "            'model': model}\n",
    "torch.save(checkpoint, 'checkpoint.pth')"
   ]
  }
 ],
 "metadata": {
  "kernelspec": {
   "display_name": "Python 3 (ipykernel)",
   "language": "python",
   "name": "python3"
  },
  "language_info": {
   "codemirror_mode": {
    "name": "ipython",
    "version": 3
   },
   "file_extension": ".py",
   "mimetype": "text/x-python",
   "name": "python",
   "nbconvert_exporter": "python",
   "pygments_lexer": "ipython3",
   "version": "3.9.7"
  }
 },
 "nbformat": 4,
 "nbformat_minor": 5
}
