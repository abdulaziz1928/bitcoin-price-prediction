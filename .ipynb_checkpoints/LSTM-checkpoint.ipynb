{
 "cells": [
  {
   "cell_type": "code",
   "execution_count": 187,
   "id": "13183b8b",
   "metadata": {},
   "outputs": [],
   "source": [
    "#imports\n",
    "import numpy as np\n",
    "import pandas as pd\n",
    "import torch\n",
    "import torch.nn as nn\n",
    "import torch.optim as optim\n",
    "from torch.autograd import Variable \n",
    "from sklearn.preprocessing import StandardScaler, MinMaxScaler\n",
    "import matplotlib.pyplot as plt\n",
    "from IPython.display import display\n",
    "%matplotlib inline\n",
    "%config inlineBackend.figure_format='retina'\n"
   ]
  },
  {
   "cell_type": "code",
   "execution_count": 188,
   "id": "43cc9f2d",
   "metadata": {
    "scrolled": true
   },
   "outputs": [
    {
     "data": {
      "text/html": [
       "<div>\n",
       "<style scoped>\n",
       "    .dataframe tbody tr th:only-of-type {\n",
       "        vertical-align: middle;\n",
       "    }\n",
       "\n",
       "    .dataframe tbody tr th {\n",
       "        vertical-align: top;\n",
       "    }\n",
       "\n",
       "    .dataframe thead th {\n",
       "        text-align: right;\n",
       "    }\n",
       "</style>\n",
       "<table border=\"1\" class=\"dataframe\">\n",
       "  <thead>\n",
       "    <tr style=\"text-align: right;\">\n",
       "      <th></th>\n",
       "      <th>Open</th>\n",
       "      <th>High</th>\n",
       "      <th>Low</th>\n",
       "      <th>Close</th>\n",
       "      <th>Adj Close</th>\n",
       "      <th>Volume</th>\n",
       "    </tr>\n",
       "    <tr>\n",
       "      <th>Date</th>\n",
       "      <th></th>\n",
       "      <th></th>\n",
       "      <th></th>\n",
       "      <th></th>\n",
       "      <th></th>\n",
       "      <th></th>\n",
       "    </tr>\n",
       "  </thead>\n",
       "  <tbody>\n",
       "    <tr>\n",
       "      <th>2021-04-17</th>\n",
       "      <td>61529.921875</td>\n",
       "      <td>62572.175781</td>\n",
       "      <td>60361.351563</td>\n",
       "      <td>60683.820313</td>\n",
       "      <td>60683.820313</td>\n",
       "      <td>66138759198</td>\n",
       "    </tr>\n",
       "    <tr>\n",
       "      <th>2021-04-18</th>\n",
       "      <td>60701.886719</td>\n",
       "      <td>61057.457031</td>\n",
       "      <td>52829.535156</td>\n",
       "      <td>56216.183594</td>\n",
       "      <td>56216.183594</td>\n",
       "      <td>97468872758</td>\n",
       "    </tr>\n",
       "    <tr>\n",
       "      <th>2021-04-19</th>\n",
       "      <td>56191.585938</td>\n",
       "      <td>57520.054688</td>\n",
       "      <td>54368.593750</td>\n",
       "      <td>55724.265625</td>\n",
       "      <td>55724.265625</td>\n",
       "      <td>65344865159</td>\n",
       "    </tr>\n",
       "    <tr>\n",
       "      <th>2021-04-20</th>\n",
       "      <td>55681.792969</td>\n",
       "      <td>57062.148438</td>\n",
       "      <td>53448.046875</td>\n",
       "      <td>56473.031250</td>\n",
       "      <td>56473.031250</td>\n",
       "      <td>67849323955</td>\n",
       "    </tr>\n",
       "    <tr>\n",
       "      <th>2021-04-21</th>\n",
       "      <td>56471.128906</td>\n",
       "      <td>56757.972656</td>\n",
       "      <td>53695.468750</td>\n",
       "      <td>53906.089844</td>\n",
       "      <td>53906.089844</td>\n",
       "      <td>54926612466</td>\n",
       "    </tr>\n",
       "  </tbody>\n",
       "</table>\n",
       "</div>"
      ],
      "text/plain": [
       "                    Open          High           Low         Close  \\\n",
       "Date                                                                 \n",
       "2021-04-17  61529.921875  62572.175781  60361.351563  60683.820313   \n",
       "2021-04-18  60701.886719  61057.457031  52829.535156  56216.183594   \n",
       "2021-04-19  56191.585938  57520.054688  54368.593750  55724.265625   \n",
       "2021-04-20  55681.792969  57062.148438  53448.046875  56473.031250   \n",
       "2021-04-21  56471.128906  56757.972656  53695.468750  53906.089844   \n",
       "\n",
       "               Adj Close       Volume  \n",
       "Date                                   \n",
       "2021-04-17  60683.820313  66138759198  \n",
       "2021-04-18  56216.183594  97468872758  \n",
       "2021-04-19  55724.265625  65344865159  \n",
       "2021-04-20  56473.031250  67849323955  \n",
       "2021-04-21  53906.089844  54926612466  "
      ]
     },
     "metadata": {},
     "output_type": "display_data"
    }
   ],
   "source": [
    "#preproccessing\n",
    "data = pd.read_csv(\"BTC-USD-Daily.csv\", index_col ='Date', parse_dates=True)\n",
    "display(data.head(5))"
   ]
  },
  {
   "cell_type": "code",
   "execution_count": 189,
   "id": "91897c43",
   "metadata": {},
   "outputs": [
    {
     "data": {
      "text/plain": [
       "<AxesSubplot:title={'center':'btc close'}, xlabel='Date'>"
      ]
     },
     "execution_count": 189,
     "metadata": {},
     "output_type": "execute_result"
    },
    {
     "data": {
      "image/png": "[encoded data removed]",
      "text/plain": [
       "<Figure size 432x288 with 1 Axes>"
      ]
     },
     "metadata": {
      "needs_background": "light"
     },
     "output_type": "display_data"
    }
   ],
   "source": [
    "data['Close'].plot(label='Close', title='btc close')"
   ]
  },
  {
   "cell_type": "code",
   "execution_count": 190,
   "id": "8cb6ad96",
   "metadata": {},
   "outputs": [],
   "source": [
    "del data['Adj Close']"
   ]
  },
  {
   "cell_type": "code",
   "execution_count": 191,
   "id": "ae74cc0c",
   "metadata": {},
   "outputs": [
    {
     "data": {
      "text/html": [
       "<div>\n",
       "<style scoped>\n",
       "    .dataframe tbody tr th:only-of-type {\n",
       "        vertical-align: middle;\n",
       "    }\n",
       "\n",
       "    .dataframe tbody tr th {\n",
       "        vertical-align: top;\n",
       "    }\n",
       "\n",
       "    .dataframe thead th {\n",
       "        text-align: right;\n",
       "    }\n",
       "</style>\n",
       "<table border=\"1\" class=\"dataframe\">\n",
       "  <thead>\n",
       "    <tr style=\"text-align: right;\">\n",
       "      <th></th>\n",
       "      <th>Open</th>\n",
       "      <th>High</th>\n",
       "      <th>Low</th>\n",
       "      <th>Volume</th>\n",
       "      <th>Close</th>\n",
       "    </tr>\n",
       "    <tr>\n",
       "      <th>Date</th>\n",
       "      <th></th>\n",
       "      <th></th>\n",
       "      <th></th>\n",
       "      <th></th>\n",
       "      <th></th>\n",
       "    </tr>\n",
       "  </thead>\n",
       "  <tbody>\n",
       "    <tr>\n",
       "      <th>2021-04-17</th>\n",
       "      <td>61529.921875</td>\n",
       "      <td>62572.175781</td>\n",
       "      <td>60361.351563</td>\n",
       "      <td>66138759198</td>\n",
       "      <td>60683.820313</td>\n",
       "    </tr>\n",
       "    <tr>\n",
       "      <th>2021-04-18</th>\n",
       "      <td>60701.886719</td>\n",
       "      <td>61057.457031</td>\n",
       "      <td>52829.535156</td>\n",
       "      <td>97468872758</td>\n",
       "      <td>56216.183594</td>\n",
       "    </tr>\n",
       "    <tr>\n",
       "      <th>2021-04-19</th>\n",
       "      <td>56191.585938</td>\n",
       "      <td>57520.054688</td>\n",
       "      <td>54368.593750</td>\n",
       "      <td>65344865159</td>\n",
       "      <td>55724.265625</td>\n",
       "    </tr>\n",
       "    <tr>\n",
       "      <th>2021-04-20</th>\n",
       "      <td>55681.792969</td>\n",
       "      <td>57062.148438</td>\n",
       "      <td>53448.046875</td>\n",
       "      <td>67849323955</td>\n",
       "      <td>56473.031250</td>\n",
       "    </tr>\n",
       "    <tr>\n",
       "      <th>2021-04-21</th>\n",
       "      <td>56471.128906</td>\n",
       "      <td>56757.972656</td>\n",
       "      <td>53695.468750</td>\n",
       "      <td>54926612466</td>\n",
       "      <td>53906.089844</td>\n",
       "    </tr>\n",
       "  </tbody>\n",
       "</table>\n",
       "</div>"
      ],
      "text/plain": [
       "                    Open          High           Low       Volume  \\\n",
       "Date                                                                \n",
       "2021-04-17  61529.921875  62572.175781  60361.351563  66138759198   \n",
       "2021-04-18  60701.886719  61057.457031  52829.535156  97468872758   \n",
       "2021-04-19  56191.585938  57520.054688  54368.593750  65344865159   \n",
       "2021-04-20  55681.792969  57062.148438  53448.046875  67849323955   \n",
       "2021-04-21  56471.128906  56757.972656  53695.468750  54926612466   \n",
       "\n",
       "                   Close  \n",
       "Date                      \n",
       "2021-04-17  60683.820313  \n",
       "2021-04-18  56216.183594  \n",
       "2021-04-19  55724.265625  \n",
       "2021-04-20  56473.031250  \n",
       "2021-04-21  53906.089844  "
      ]
     },
     "metadata": {},
     "output_type": "display_data"
    }
   ],
   "source": [
    "data=data.iloc[:, [0, 1,2,4,3]]\n",
    "display(data.head(5))\n"
   ]
  },
  {
   "cell_type": "code",
   "execution_count": 192,
   "id": "6c7d56f8",
   "metadata": {},
   "outputs": [
    {
     "data": {
      "text/html": [
       "<div>\n",
       "<style scoped>\n",
       "    .dataframe tbody tr th:only-of-type {\n",
       "        vertical-align: middle;\n",
       "    }\n",
       "\n",
       "    .dataframe tbody tr th {\n",
       "        vertical-align: top;\n",
       "    }\n",
       "\n",
       "    .dataframe thead th {\n",
       "        text-align: right;\n",
       "    }\n",
       "</style>\n",
       "<table border=\"1\" class=\"dataframe\">\n",
       "  <thead>\n",
       "    <tr style=\"text-align: right;\">\n",
       "      <th></th>\n",
       "      <th>Open</th>\n",
       "      <th>High</th>\n",
       "      <th>Low</th>\n",
       "      <th>Volume</th>\n",
       "    </tr>\n",
       "    <tr>\n",
       "      <th>Date</th>\n",
       "      <th></th>\n",
       "      <th></th>\n",
       "      <th></th>\n",
       "      <th></th>\n",
       "    </tr>\n",
       "  </thead>\n",
       "  <tbody>\n",
       "    <tr>\n",
       "      <th>2021-04-17</th>\n",
       "      <td>61529.921875</td>\n",
       "      <td>62572.175781</td>\n",
       "      <td>60361.351563</td>\n",
       "      <td>66138759198</td>\n",
       "    </tr>\n",
       "    <tr>\n",
       "      <th>2021-04-18</th>\n",
       "      <td>60701.886719</td>\n",
       "      <td>61057.457031</td>\n",
       "      <td>52829.535156</td>\n",
       "      <td>97468872758</td>\n",
       "    </tr>\n",
       "    <tr>\n",
       "      <th>2021-04-19</th>\n",
       "      <td>56191.585938</td>\n",
       "      <td>57520.054688</td>\n",
       "      <td>54368.593750</td>\n",
       "      <td>65344865159</td>\n",
       "    </tr>\n",
       "    <tr>\n",
       "      <th>2021-04-20</th>\n",
       "      <td>55681.792969</td>\n",
       "      <td>57062.148438</td>\n",
       "      <td>53448.046875</td>\n",
       "      <td>67849323955</td>\n",
       "    </tr>\n",
       "    <tr>\n",
       "      <th>2021-04-21</th>\n",
       "      <td>56471.128906</td>\n",
       "      <td>56757.972656</td>\n",
       "      <td>53695.468750</td>\n",
       "      <td>54926612466</td>\n",
       "    </tr>\n",
       "  </tbody>\n",
       "</table>\n",
       "</div>"
      ],
      "text/plain": [
       "                    Open          High           Low       Volume\n",
       "Date                                                             \n",
       "2021-04-17  61529.921875  62572.175781  60361.351563  66138759198\n",
       "2021-04-18  60701.886719  61057.457031  52829.535156  97468872758\n",
       "2021-04-19  56191.585938  57520.054688  54368.593750  65344865159\n",
       "2021-04-20  55681.792969  57062.148438  53448.046875  67849323955\n",
       "2021-04-21  56471.128906  56757.972656  53695.468750  54926612466"
      ]
     },
     "metadata": {},
     "output_type": "display_data"
    },
    {
     "data": {
      "text/html": [
       "<div>\n",
       "<style scoped>\n",
       "    .dataframe tbody tr th:only-of-type {\n",
       "        vertical-align: middle;\n",
       "    }\n",
       "\n",
       "    .dataframe tbody tr th {\n",
       "        vertical-align: top;\n",
       "    }\n",
       "\n",
       "    .dataframe thead th {\n",
       "        text-align: right;\n",
       "    }\n",
       "</style>\n",
       "<table border=\"1\" class=\"dataframe\">\n",
       "  <thead>\n",
       "    <tr style=\"text-align: right;\">\n",
       "      <th></th>\n",
       "      <th>Close</th>\n",
       "    </tr>\n",
       "    <tr>\n",
       "      <th>Date</th>\n",
       "      <th></th>\n",
       "    </tr>\n",
       "  </thead>\n",
       "  <tbody>\n",
       "    <tr>\n",
       "      <th>2021-04-17</th>\n",
       "      <td>60683.820313</td>\n",
       "    </tr>\n",
       "    <tr>\n",
       "      <th>2021-04-18</th>\n",
       "      <td>56216.183594</td>\n",
       "    </tr>\n",
       "    <tr>\n",
       "      <th>2021-04-19</th>\n",
       "      <td>55724.265625</td>\n",
       "    </tr>\n",
       "    <tr>\n",
       "      <th>2021-04-20</th>\n",
       "      <td>56473.031250</td>\n",
       "    </tr>\n",
       "    <tr>\n",
       "      <th>2021-04-21</th>\n",
       "      <td>53906.089844</td>\n",
       "    </tr>\n",
       "  </tbody>\n",
       "</table>\n",
       "</div>"
      ],
      "text/plain": [
       "                   Close\n",
       "Date                    \n",
       "2021-04-17  60683.820313\n",
       "2021-04-18  56216.183594\n",
       "2021-04-19  55724.265625\n",
       "2021-04-20  56473.031250\n",
       "2021-04-21  53906.089844"
      ]
     },
     "metadata": {},
     "output_type": "display_data"
    }
   ],
   "source": [
    "x=data.iloc[:, :-1]\n",
    "y=data.iloc[:, 4:5]\n",
    "\n",
    "display(x.head(5))\n",
    "display(y.head(5))"
   ]
  },
  {
   "cell_type": "code",
   "execution_count": 193,
   "id": "69908ec9",
   "metadata": {},
   "outputs": [],
   "source": [
    "scaler_s = StandardScaler()\n",
    "scaler_mm = MinMaxScaler()\n",
    "\n",
    "x_normalized = scaler_s.fit_transform(x)\n",
    "y_normalized = scaler_mm.fit_transform(y) "
   ]
  },
  {
   "cell_type": "code",
   "execution_count": 194,
   "id": "cad6ca9d",
   "metadata": {},
   "outputs": [],
   "source": [
    "size=int(len(x_normalized)*0.8)\n",
    "\n",
    "X_train = x_normalized[:size, :]\n",
    "X_test = x_normalized[size:, :]\n",
    "\n",
    "y_train = y_normalized[:size, :]\n",
    "y_test = y_normalized[size:, :]"
   ]
  },
  {
   "cell_type": "code",
   "execution_count": 195,
   "id": "623799a6",
   "metadata": {
    "scrolled": true
   },
   "outputs": [
    {
     "data": {
      "image/png": "[encoded data removed]",
      "text/plain": [
       "<Figure size 432x288 with 1 Axes>"
      ]
     },
     "metadata": {
      "needs_background": "light"
     },
     "output_type": "display_data"
    }
   ],
   "source": [
    "plt.plot(data['Close'],label='BTC daily close')\n",
    "plt.legend()\n",
    "plt.show()"
   ]
  },
  {
   "cell_type": "code",
   "execution_count": 196,
   "id": "367ebf74",
   "metadata": {},
   "outputs": [
    {
     "name": "stdout",
     "output_type": "stream",
     "text": [
      "Train set shape x,y (292, 4) (292, 1)\n",
      "Test set shaoe x,y  (74, 4) (74, 1)\n"
     ]
    }
   ],
   "source": [
    "print(\"Train set shape x,y\", X_train.shape, y_train.shape)\n",
    "print(\"Test set shaoe x,y \", X_test.shape, y_test.shape) "
   ]
  },
  {
   "cell_type": "code",
   "execution_count": 198,
   "id": "6bea5c19",
   "metadata": {},
   "outputs": [],
   "source": [
    "# transforming sets to tensors\n",
    "X_train = Variable(torch.Tensor(X_train))\n",
    "X_test = Variable(torch.Tensor(X_test))\n",
    "\n",
    "y_train = Variable(torch.Tensor(y_train))\n",
    "y_test = Variable(torch.Tensor(y_test)) "
   ]
  },
  {
   "cell_type": "code",
   "execution_count": 199,
   "id": "4e5b5743",
   "metadata": {},
   "outputs": [
    {
     "name": "stdout",
     "output_type": "stream",
     "text": [
      "Train set shape x,y torch.Size([292, 1, 4]) torch.Size([292, 1])\n",
      "Test set shaoe x,y  torch.Size([74, 1, 4]) torch.Size([74, 1])\n"
     ]
    }
   ],
   "source": [
    "#reshaping x tensors\n",
    "X_train_f = torch.reshape(X_train, (X_train.shape[0], 1, X_train.shape[1]) )\n",
    "\n",
    "X_test_f = torch.reshape(X_test, (X_test.shape[0], 1, X_test.shape[1]) ) \n",
    "print(\"Train set shape x,y\", X_train_f.shape, y_train.shape)\n",
    "print(\"Test set shaoe x,y \", X_test_f.shape, y_test.shape) "
   ]
  },
  {
   "cell_type": "code",
   "execution_count": 200,
   "id": "1bd9803c",
   "metadata": {},
   "outputs": [],
   "source": [
    "def set(x,y):\n",
    "    x=x.type(torch.FloatTensor)\n",
    "    y=y.type(torch.FloatTensor)\n",
    "    \n",
    "    train_data = []\n",
    "    for i in range(len(x)):\n",
    "       train_data.append([x[i], y[i]])\n",
    "    return train_data"
   ]
  },
  {
   "cell_type": "code",
   "execution_count": 201,
   "id": "f4eb56bf",
   "metadata": {},
   "outputs": [],
   "source": [
    "train_set=set(X_train_f,y_train)\n",
    "test_set=set(X_test_f,y_test)\n",
    "\n",
    "\n",
    "testloader = torch.utils.data.DataLoader(test_set,batch_size=64, shuffle=False)\n",
    "trainloader = torch.utils.data.DataLoader(train_set,batch_size=64, shuffle=False)"
   ]
  },
  {
   "cell_type": "code",
   "execution_count": 204,
   "id": "27e2b8f5",
   "metadata": {},
   "outputs": [
    {
     "data": {
      "image/png": "[encoded data removed]",
      "text/plain": [
       "<Figure size 432x288 with 1 Axes>"
      ]
     },
     "metadata": {
      "needs_background": "light"
     },
     "output_type": "display_data"
    }
   ],
   "source": [
    "plt.plot(y_train.numpy(),label='train')\n",
    "plt.plot(y_test.numpy(),label='test')\n",
    "plt.legend()\n",
    "plt.show()"
   ]
  },
  {
   "cell_type": "code",
   "execution_count": 205,
   "id": "79dad2d1",
   "metadata": {},
   "outputs": [],
   "source": [
    "#Model\n",
    "class MyLSTM(nn.Module):\n",
    "    def __init__(self,n_inputs,n_hidden=256,n_layers=3):\n",
    "        super().__init__()\n",
    "        self.n_hidden=n_hidden\n",
    "        \n",
    "        self.lstm=nn.LSTM(\n",
    "            input_size=n_inputs,\n",
    "            hidden_size=n_hidden,\n",
    "            num_layers=n_layers,\n",
    "            dropout=0.2,\n",
    "            batch_first=True\n",
    "        )\n",
    "        \n",
    "        self.fc1=nn.Linear(self.n_hidden,1)\n",
    "        \n",
    "    def forward(self,x):\n",
    "        _,(h_t,_)=self.lstm(x)\n",
    "        \n",
    "        x=self.fc1(h_t[-1])\n",
    "        return x"
   ]
  },
  {
   "cell_type": "code",
   "execution_count": 206,
   "id": "f34ac9e7",
   "metadata": {},
   "outputs": [],
   "source": [
    "#Init Model,criterion,optimizer\n",
    "n_inputs=4  ####\n",
    "model=MyLSTM(n_inputs)\n",
    "criterion=nn.MSELoss()\n",
    "optimizer=optim.Adam(model.parameters(),lr=0.0001)\n",
    "training_losses,validation_losses=[],[]"
   ]
  },
  {
   "cell_type": "code",
   "execution_count": 207,
   "id": "145858b6",
   "metadata": {},
   "outputs": [
    {
     "name": "stdout",
     "output_type": "stream",
     "text": [
      "Epoch 10/200,  Training loss: 0.168,  Validation loss: 0.032,  \n",
      "Saving better model\n",
      "Epoch 20/200,  Training loss: 0.103,  Validation loss: 0.006,  \n",
      "Saving better model\n",
      "Epoch 30/200,  Training loss: 0.020,  Validation loss: 0.002,  \n",
      "Saving better model\n",
      "Epoch 40/200,  Training loss: 0.003,  Validation loss: 0.001,  \n",
      "Saving better model\n",
      "Epoch 50/200,  Training loss: 0.002,  Validation loss: 0.001,  \n",
      "Saving better model\n",
      "Epoch 60/200,  Training loss: 0.002,  Validation loss: 0.001,  \n",
      "Saving better model\n",
      "Epoch 70/200,  Training loss: 0.002,  Validation loss: 0.001,  \n",
      "Saving better model\n",
      "Epoch 80/200,  Training loss: 0.002,  Validation loss: 0.001,  \n",
      "Saving better model\n",
      "Epoch 90/200,  Training loss: 0.001,  Validation loss: 0.001,  \n",
      "Saving better model\n",
      "Epoch 100/200,  Training loss: 0.001,  Validation loss: 0.001,  \n",
      "Saving better model\n",
      "Epoch 110/200,  Training loss: 0.001,  Validation loss: 0.001,  \n",
      "Saving better model\n",
      "Epoch 120/200,  Training loss: 0.001,  Validation loss: 0.001,  \n",
      "Saving better model\n",
      "Epoch 130/200,  Training loss: 0.001,  Validation loss: 0.001,  \n",
      "Saving better model\n",
      "Epoch 140/200,  Training loss: 0.001,  Validation loss: 0.001,  \n",
      "Saving better model\n",
      "Epoch 150/200,  Training loss: 0.001,  Validation loss: 0.001,  \n",
      "Saving better model\n",
      "Epoch 160/200,  Training loss: 0.001,  Validation loss: 0.001,  \n",
      "Saving better model\n",
      "Epoch 170/200,  Training loss: 0.001,  Validation loss: 0.001,  \n",
      "Saving better model\n",
      "Epoch 180/200,  Training loss: 0.001,  Validation loss: 0.001,  \n",
      "Saving better model\n",
      "Epoch 190/200,  Training loss: 0.001,  Validation loss: 0.001,  \n",
      "Saving better model\n",
      "Epoch 200/200,  Training loss: 0.001,  Validation loss: 0.000,  \n",
      "Saving better model\n"
     ]
    }
   ],
   "source": [
    "#Model Training\n",
    "\n",
    "device = torch.device(\"cuda\" if torch.cuda.is_available() else \"cpu\")\n",
    "epochs= 200\n",
    "steps,running_loss,test_loss=0,0,0\n",
    "model.to(device)\n",
    "min_validation_loss=np.Infinity\n",
    "validate_every = 50\n",
    "\n",
    "for e in range(epochs):\n",
    "    \n",
    "    #training\n",
    "    for inputs, labels in trainloader:###\n",
    "        steps+=1\n",
    "        inputs, labels= inputs.to(device), labels.to(device)\n",
    "        \n",
    "        optimizer.zero_grad()\n",
    "        logps = model.forward(inputs)\n",
    "        loss = criterion(logps, labels)\n",
    "        loss.backward()\n",
    "        optimizer.step()\n",
    "        running_loss += loss.item()\n",
    "        \n",
    "        #testing\n",
    "        if steps % validate_every == 0:\n",
    "            validation_loss = 0\n",
    "            model.eval()\n",
    "            with torch.no_grad():\n",
    "                for inputs, labels in testloader:\n",
    "                    inputs, labels= inputs.to(device), labels.to(device)\n",
    "                    logps = model.forward(inputs)\n",
    "                    v_loss = criterion(logps, labels)\n",
    "                    validation_loss+=v_loss.item()\n",
    "            \n",
    "            model.train()\n",
    "            \n",
    "            avg_validation_loss=validation_loss/len(testloader)\n",
    "            \n",
    "            print(f\"Epoch {e+1}/{epochs},  \"\n",
    "                  f\"Training loss: {running_loss/validate_every:.3f},  \"\n",
    "                  f\"Validation loss: {avg_validation_loss:.3f},  \")\n",
    "            \n",
    "            training_losses.append(running_loss/validate_every)\n",
    "            validation_losses.append(avg_validation_loss)\n",
    "            \n",
    "            #Saving better model\n",
    "            if avg_validation_loss<min_validation_loss:\n",
    "                print(f\"Saving better model\")\n",
    "                min_validation_loss=avg_validation_loss\n",
    "                torch.save( model.state_dict(), 'lstm_model_dict.pt')\n",
    "              \n",
    "            running_loss = 0\n"
   ]
  },
  {
   "cell_type": "code",
   "execution_count": 208,
   "id": "8fbdd5df",
   "metadata": {},
   "outputs": [
    {
     "data": {
      "image/png": "[encoded data removed]",
      "text/plain": [
       "<Figure size 432x288 with 1 Axes>"
      ]
     },
     "metadata": {
      "needs_background": "light"
     },
     "output_type": "display_data"
    }
   ],
   "source": [
    "#plot\n",
    "\n",
    "plt.plot(training_losses,label='Train loss')\n",
    "plt.plot(validation_losses,label='Validation loss')\n",
    "plt.legend()\n",
    "plt.show()"
   ]
  },
  {
   "cell_type": "code",
   "execution_count": 209,
   "id": "8ff9f15f",
   "metadata": {},
   "outputs": [
    {
     "data": {
      "text/plain": [
       "<All keys matched successfully>"
      ]
     },
     "execution_count": 209,
     "metadata": {},
     "output_type": "execute_result"
    }
   ],
   "source": [
    "model.load_state_dict(torch.load('lstm_model_dict.pt'))"
   ]
  },
  {
   "cell_type": "code",
   "execution_count": 210,
   "id": "2d39297b",
   "metadata": {},
   "outputs": [
    {
     "data": {
      "text/plain": [
       "MyLSTM(\n",
       "  (lstm): LSTM(4, 256, num_layers=3, batch_first=True, dropout=0.2)\n",
       "  (fc1): Linear(in_features=256, out_features=1, bias=True)\n",
       ")"
      ]
     },
     "execution_count": 210,
     "metadata": {},
     "output_type": "execute_result"
    }
   ],
   "source": [
    "#prediction\n",
    "#...\n",
    "model.eval()\n",
    "prediction=[]\n",
    "labelss=[]       \n",
    "with torch.no_grad():\n",
    "    for inputs, labels in testloader:\n",
    "        inputs, labels= inputs.to(device), labels.to(device)\n",
    "        logps = model.forward(inputs).cpu().data.numpy()\n",
    "        prediction+=(logps.tolist())\n",
    "        labelss+=labels.tolist()\n",
    "        \n",
    "model.train()"
   ]
  },
  {
   "cell_type": "code",
   "execution_count": 211,
   "id": "93e9a697",
   "metadata": {
    "scrolled": true
   },
   "outputs": [
    {
     "data": {
      "image/png": "[encoded data removed]",
      "text/plain": [
       "<Figure size 432x288 with 1 Axes>"
      ]
     },
     "metadata": {
      "needs_background": "light"
     },
     "output_type": "display_data"
    }
   ],
   "source": [
    "plt.plot(prediction,label='prediction')\n",
    "plt.plot(labelss,label='labels')\n",
    "\n",
    "plt.legend()\n",
    "plt.show()\n",
    "# prediction=np.array(prediction)\n"
   ]
  },
  {
   "cell_type": "code",
   "execution_count": 212,
   "id": "527347e7",
   "metadata": {},
   "outputs": [],
   "source": [
    "#Saving Model\n",
    "checkpoint={'state_dict': model.state_dict(),\n",
    "            'inputs': n_inputs,\n",
    "            'optimizer': optimizer,\n",
    "            'criterion': criterion,\n",
    "            'model': model}\n",
    "torch.save(checkpoint, 'checkpoint.pth')"
   ]
  },
  {
   "cell_type": "code",
   "execution_count": null,
   "id": "33de5025",
   "metadata": {},
   "outputs": [],
   "source": []
  }
 ],
 "metadata": {
  "kernelspec": {
   "display_name": "Python 3 (ipykernel)",
   "language": "python",
   "name": "python3"
  },
  "language_info": {
   "codemirror_mode": {
    "name": "ipython",
    "version": 3
   },
   "file_extension": ".py",
   "mimetype": "text/x-python",
   "name": "python",
   "nbconvert_exporter": "python",
   "pygments_lexer": "ipython3",
   "version": "3.9.7"
  }
 },
 "nbformat": 4,
 "nbformat_minor": 5
}
