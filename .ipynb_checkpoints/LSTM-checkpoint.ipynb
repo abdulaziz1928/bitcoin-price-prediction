{
 "cells": [
  {
   "cell_type": "code",
   "execution_count": 4,
   "id": "13183b8b",
   "metadata": {},
   "outputs": [],
   "source": [
    "#imports\n",
    "import numpy as np\n",
    "import torch\n",
    "import torch.nn as nn\n",
    "import torch.optim as optim\n",
    "import matplotlib.pyplot as plt"
   ]
  },
  {
   "cell_type": "code",
   "execution_count": 10,
   "id": "43cc9f2d",
   "metadata": {},
   "outputs": [],
   "source": [
    "#preproccessing"
   ]
  },
  {
   "cell_type": "code",
   "execution_count": 9,
   "id": "2d23b76b",
   "metadata": {},
   "outputs": [],
   "source": [
    "trainset=None\n",
    "testset=None\n",
    "\n",
    "trainloader=None\n",
    "testloader=None\n",
    "#..."
   ]
  },
  {
   "cell_type": "code",
   "execution_count": 7,
   "id": "79dad2d1",
   "metadata": {},
   "outputs": [],
   "source": [
    "#Model\n",
    "class MyLSTM(nn.Module):\n",
    "    def __init__(self,n_inputs,n_hidden=256,n_layers=3):\n",
    "        super().__init__()\n",
    "        self.n_hidden=n_hidden\n",
    "        \n",
    "        self.lstm=nn.LSTM(\n",
    "            input_size=n_inputs,\n",
    "            hidden_size=n_hidden,\n",
    "            num_layers=n_layers,\n",
    "            dropout=0.2,\n",
    "            batch_first=True\n",
    "        )\n",
    "        \n",
    "        self.fc1=nn.Linear(self.n_hidden,1)\n",
    "        \n",
    "    def forward(self,x):\n",
    "        _,(h_t,_)=self.lstm(x)\n",
    "        \n",
    "        x=self.fc1(h_t[-1])\n",
    "        return x"
   ]
  },
  {
   "cell_type": "code",
   "execution_count": 8,
   "id": "f34ac9e7",
   "metadata": {},
   "outputs": [],
   "source": [
    "#Init Model,criterion,optimizer\n",
    "n_inputs=0  ####\n",
    "model=MyLSTM(n_inputs)\n",
    "criterion=nn.MSELoss\n",
    "optimizer=optim.Adam(model.parameters(),lr=0.0001)\n",
    "training_losses,validation_losses=[],[]"
   ]
  },
  {
   "cell_type": "code",
   "execution_count": 6,
   "id": "145858b6",
   "metadata": {},
   "outputs": [],
   "source": [
    "#Model Training\n",
    "\n",
    "device = torch.device(\"cuda\" if torch.cuda.is_available() else \"cpu\")\n",
    "epochs= 10\n",
    "steps,running_loss,test_loss=0,0,0\n",
    "model.to(device)\n",
    "min_validation_loss=np.Infinity\n",
    "validate_every = 50\n",
    "\n",
    "for e in range(epochs):\n",
    "    \n",
    "    #training\n",
    "    for inputs, labels in trainloader:###\n",
    "        steps+=1\n",
    "        inputs, labels= inputs.to(device), labels.to(device)\n",
    "        \n",
    "        optimizer.zero_grad()\n",
    "        logps = model.forward(inputs)\n",
    "        loss = criterion(logps, labels)\n",
    "        loss.backward()\n",
    "        optimizer.step()\n",
    "        running_loss += loss.item()\n",
    "        \n",
    "        #testing\n",
    "        if steps % validate_every == 0:\n",
    "            validation_loss = 0\n",
    "            model.eval()\n",
    "            with torch.no_grad():\n",
    "                for inputs, labels in testloader:\n",
    "                    inputs, labels= inputs.to(device), labels.to(device)\n",
    "                    logps = model.forward(inputs)\n",
    "                    v_loss = criterion(logps, labels)\n",
    "                    validation_loss+=v_loss.item()\n",
    "            \n",
    "            model.train()\n",
    "            \n",
    "            avg_validation_loss=validation_loss/len(testloader)\n",
    "            \n",
    "            print(f\"Epoch {e+1}/{epochs},  \"\n",
    "                  f\"Training loss: {running_loss/validate_every:.3f},  \"\n",
    "                  f\"Validation loss: {avg_validation_loss:.3f},  \")\n",
    "            \n",
    "            training_losses.append(running_loss/validate_every)\n",
    "            validation_losses.append(avg_validation_loss)\n",
    "            \n",
    "            #Saving better model\n",
    "            if avg_validation_loss<min_validation_loss:\n",
    "                print(f\"Saving better model\")\n",
    "                min_validation_loss=avg_validation_loss\n",
    "                torch.save( model.state_dict(), 'lstm_model_dict.pt')\n",
    "              \n",
    "            running_loss = 0\n"
   ]
  },
  {
   "cell_type": "code",
   "execution_count": null,
   "id": "8fbdd5df",
   "metadata": {},
   "outputs": [],
   "source": [
    "#plot\n",
    "%matplotlib inline\n",
    "%config inlineBackend.figure_format='retina'\n",
    "\n",
    "import matplotlib.pyplot as plt\n",
    "plt.plot(training_losses,label='Train loss')\n",
    "plt.plot(validation_losses,label='Validation loss')\n",
    "plt.legend()\n",
    "plt.show()"
   ]
  },
  {
   "cell_type": "code",
   "execution_count": null,
   "id": "2d39297b",
   "metadata": {},
   "outputs": [],
   "source": [
    "#prediction\n",
    "#..."
   ]
  },
  {
   "cell_type": "code",
   "execution_count": null,
   "id": "527347e7",
   "metadata": {},
   "outputs": [],
   "source": [
    "#Saving Model\n",
    "checkpoint={'state_dict': model.state_dict(),\n",
    "            'inputs': n_inputs,\n",
    "            'optimizer': optimizer,\n",
    "            'criterion': criterion,\n",
    "            'model': model}\n",
    "torch.save(checkpoint, 'checkpoint.pth')"
   ]
  }
 ],
 "metadata": {
  "kernelspec": {
   "display_name": "Python 3 (ipykernel)",
   "language": "python",
   "name": "python3"
  },
  "language_info": {
   "codemirror_mode": {
    "name": "ipython",
    "version": 3
   },
   "file_extension": ".py",
   "mimetype": "text/x-python",
   "name": "python",
   "nbconvert_exporter": "python",
   "pygments_lexer": "ipython3",
   "version": "3.9.7"
  }
 },
 "nbformat": 4,
 "nbformat_minor": 5
}
