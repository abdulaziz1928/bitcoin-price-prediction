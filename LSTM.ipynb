{
 "cells": [
  {
   "cell_type": "code",
   "execution_count": 265,
   "id": "13183b8b",
   "metadata": {},
   "outputs": [],
   "source": [
    "#imports\n",
    "import numpy as np\n",
    "import pandas as pd\n",
    "import torch\n",
    "import torch.nn as nn\n",
    "import torch.optim as optim\n",
    "from torch.autograd import Variable \n",
    "from sklearn.preprocessing import StandardScaler, MinMaxScaler\n",
    "import matplotlib.pyplot as plt\n",
    "from IPython.display import display\n",
    "%matplotlib inline\n",
    "%config inlineBackend.figure_format='retina'\n"
   ]
  },
  {
   "cell_type": "code",
   "execution_count": 266,
   "id": "43cc9f2d",
   "metadata": {
    "scrolled": true
   },
   "outputs": [
    {
     "data": {
      "text/html": [
       "<div>\n",
       "<style scoped>\n",
       "    .dataframe tbody tr th:only-of-type {\n",
       "        vertical-align: middle;\n",
       "    }\n",
       "\n",
       "    .dataframe tbody tr th {\n",
       "        vertical-align: top;\n",
       "    }\n",
       "\n",
       "    .dataframe thead th {\n",
       "        text-align: right;\n",
       "    }\n",
       "</style>\n",
       "<table border=\"1\" class=\"dataframe\">\n",
       "  <thead>\n",
       "    <tr style=\"text-align: right;\">\n",
       "      <th></th>\n",
       "      <th>Open</th>\n",
       "      <th>High</th>\n",
       "      <th>Low</th>\n",
       "      <th>Sentiment</th>\n",
       "      <th>Close</th>\n",
       "    </tr>\n",
       "    <tr>\n",
       "      <th>Date</th>\n",
       "      <th></th>\n",
       "      <th></th>\n",
       "      <th></th>\n",
       "      <th></th>\n",
       "      <th></th>\n",
       "    </tr>\n",
       "  </thead>\n",
       "  <tbody>\n",
       "    <tr>\n",
       "      <th>2021-04-17</th>\n",
       "      <td>61529.92188</td>\n",
       "      <td>62572.17578</td>\n",
       "      <td>60361.35156</td>\n",
       "      <td>76</td>\n",
       "      <td>60683.82031</td>\n",
       "    </tr>\n",
       "    <tr>\n",
       "      <th>2021-04-18</th>\n",
       "      <td>60701.88672</td>\n",
       "      <td>61057.45703</td>\n",
       "      <td>52829.53516</td>\n",
       "      <td>79</td>\n",
       "      <td>56216.18359</td>\n",
       "    </tr>\n",
       "    <tr>\n",
       "      <th>2021-04-19</th>\n",
       "      <td>56191.58594</td>\n",
       "      <td>57520.05469</td>\n",
       "      <td>54368.59375</td>\n",
       "      <td>74</td>\n",
       "      <td>55724.26563</td>\n",
       "    </tr>\n",
       "    <tr>\n",
       "      <th>2021-04-20</th>\n",
       "      <td>55681.79297</td>\n",
       "      <td>57062.14844</td>\n",
       "      <td>53448.04688</td>\n",
       "      <td>73</td>\n",
       "      <td>56473.03125</td>\n",
       "    </tr>\n",
       "    <tr>\n",
       "      <th>2021-04-21</th>\n",
       "      <td>56471.12891</td>\n",
       "      <td>56757.97266</td>\n",
       "      <td>53695.46875</td>\n",
       "      <td>73</td>\n",
       "      <td>53906.08984</td>\n",
       "    </tr>\n",
       "  </tbody>\n",
       "</table>\n",
       "</div>"
      ],
      "text/plain": [
       "                   Open         High          Low  Sentiment        Close\n",
       "Date                                                                     \n",
       "2021-04-17  61529.92188  62572.17578  60361.35156         76  60683.82031\n",
       "2021-04-18  60701.88672  61057.45703  52829.53516         79  56216.18359\n",
       "2021-04-19  56191.58594  57520.05469  54368.59375         74  55724.26563\n",
       "2021-04-20  55681.79297  57062.14844  53448.04688         73  56473.03125\n",
       "2021-04-21  56471.12891  56757.97266  53695.46875         73  53906.08984"
      ]
     },
     "metadata": {},
     "output_type": "display_data"
    }
   ],
   "source": [
    "#preproccessing\n",
    "data = pd.read_csv(\"BTC-USD-Daily-With-Sentiment.csv\", index_col ='Date', parse_dates=True)\n",
    "display(data.head(5))"
   ]
  },
  {
   "cell_type": "code",
   "execution_count": 267,
   "id": "91897c43",
   "metadata": {},
   "outputs": [
    {
     "data": {
      "text/plain": [
       "<AxesSubplot:title={'center':'btc close'}, xlabel='Date'>"
      ]
     },
     "execution_count": 267,
     "metadata": {},
     "output_type": "execute_result"
    },
    {
     "data": {
      "image/png": "[encoded data removed]",
      "text/plain": [
       "<Figure size 432x288 with 1 Axes>"
      ]
     },
     "metadata": {
      "needs_background": "light"
     },
     "output_type": "display_data"
    }
   ],
   "source": [
    "data['Close'].plot(label='Close', title='btc close')"
   ]
  },
  {
   "cell_type": "code",
   "execution_count": 4,
   "id": "8cb6ad96",
   "metadata": {},
   "outputs": [],
   "source": [
    "# del data['Adj Close']"
   ]
  },
  {
   "cell_type": "code",
   "execution_count": 313,
   "id": "ae74cc0c",
   "metadata": {},
   "outputs": [],
   "source": [
    "# data=data.iloc[:, [0,3,4]]\n",
    "# display(data.head(5))\n"
   ]
  },
  {
   "cell_type": "code",
   "execution_count": 268,
   "id": "6c7d56f8",
   "metadata": {},
   "outputs": [
    {
     "data": {
      "text/html": [
       "<div>\n",
       "<style scoped>\n",
       "    .dataframe tbody tr th:only-of-type {\n",
       "        vertical-align: middle;\n",
       "    }\n",
       "\n",
       "    .dataframe tbody tr th {\n",
       "        vertical-align: top;\n",
       "    }\n",
       "\n",
       "    .dataframe thead th {\n",
       "        text-align: right;\n",
       "    }\n",
       "</style>\n",
       "<table border=\"1\" class=\"dataframe\">\n",
       "  <thead>\n",
       "    <tr style=\"text-align: right;\">\n",
       "      <th></th>\n",
       "      <th>Open</th>\n",
       "      <th>High</th>\n",
       "      <th>Low</th>\n",
       "      <th>Sentiment</th>\n",
       "    </tr>\n",
       "    <tr>\n",
       "      <th>Date</th>\n",
       "      <th></th>\n",
       "      <th></th>\n",
       "      <th></th>\n",
       "      <th></th>\n",
       "    </tr>\n",
       "  </thead>\n",
       "  <tbody>\n",
       "    <tr>\n",
       "      <th>2021-04-17</th>\n",
       "      <td>61529.92188</td>\n",
       "      <td>62572.17578</td>\n",
       "      <td>60361.35156</td>\n",
       "      <td>76</td>\n",
       "    </tr>\n",
       "    <tr>\n",
       "      <th>2021-04-18</th>\n",
       "      <td>60701.88672</td>\n",
       "      <td>61057.45703</td>\n",
       "      <td>52829.53516</td>\n",
       "      <td>79</td>\n",
       "    </tr>\n",
       "    <tr>\n",
       "      <th>2021-04-19</th>\n",
       "      <td>56191.58594</td>\n",
       "      <td>57520.05469</td>\n",
       "      <td>54368.59375</td>\n",
       "      <td>74</td>\n",
       "    </tr>\n",
       "    <tr>\n",
       "      <th>2021-04-20</th>\n",
       "      <td>55681.79297</td>\n",
       "      <td>57062.14844</td>\n",
       "      <td>53448.04688</td>\n",
       "      <td>73</td>\n",
       "    </tr>\n",
       "    <tr>\n",
       "      <th>2021-04-21</th>\n",
       "      <td>56471.12891</td>\n",
       "      <td>56757.97266</td>\n",
       "      <td>53695.46875</td>\n",
       "      <td>73</td>\n",
       "    </tr>\n",
       "  </tbody>\n",
       "</table>\n",
       "</div>"
      ],
      "text/plain": [
       "                   Open         High          Low  Sentiment\n",
       "Date                                                        \n",
       "2021-04-17  61529.92188  62572.17578  60361.35156         76\n",
       "2021-04-18  60701.88672  61057.45703  52829.53516         79\n",
       "2021-04-19  56191.58594  57520.05469  54368.59375         74\n",
       "2021-04-20  55681.79297  57062.14844  53448.04688         73\n",
       "2021-04-21  56471.12891  56757.97266  53695.46875         73"
      ]
     },
     "metadata": {},
     "output_type": "display_data"
    },
    {
     "data": {
      "text/html": [
       "<div>\n",
       "<style scoped>\n",
       "    .dataframe tbody tr th:only-of-type {\n",
       "        vertical-align: middle;\n",
       "    }\n",
       "\n",
       "    .dataframe tbody tr th {\n",
       "        vertical-align: top;\n",
       "    }\n",
       "\n",
       "    .dataframe thead th {\n",
       "        text-align: right;\n",
       "    }\n",
       "</style>\n",
       "<table border=\"1\" class=\"dataframe\">\n",
       "  <thead>\n",
       "    <tr style=\"text-align: right;\">\n",
       "      <th></th>\n",
       "      <th>Close</th>\n",
       "    </tr>\n",
       "    <tr>\n",
       "      <th>Date</th>\n",
       "      <th></th>\n",
       "    </tr>\n",
       "  </thead>\n",
       "  <tbody>\n",
       "    <tr>\n",
       "      <th>2021-04-17</th>\n",
       "      <td>60683.82031</td>\n",
       "    </tr>\n",
       "    <tr>\n",
       "      <th>2021-04-18</th>\n",
       "      <td>56216.18359</td>\n",
       "    </tr>\n",
       "    <tr>\n",
       "      <th>2021-04-19</th>\n",
       "      <td>55724.26563</td>\n",
       "    </tr>\n",
       "    <tr>\n",
       "      <th>2021-04-20</th>\n",
       "      <td>56473.03125</td>\n",
       "    </tr>\n",
       "    <tr>\n",
       "      <th>2021-04-21</th>\n",
       "      <td>53906.08984</td>\n",
       "    </tr>\n",
       "  </tbody>\n",
       "</table>\n",
       "</div>"
      ],
      "text/plain": [
       "                  Close\n",
       "Date                   \n",
       "2021-04-17  60683.82031\n",
       "2021-04-18  56216.18359\n",
       "2021-04-19  55724.26563\n",
       "2021-04-20  56473.03125\n",
       "2021-04-21  53906.08984"
      ]
     },
     "metadata": {},
     "output_type": "display_data"
    }
   ],
   "source": [
    "#splitting features and labels\n",
    "x=data.iloc[:, :-1]\n",
    "y=data.iloc[:, 4:5]\n",
    "\n",
    "display(x.head(5))\n",
    "display(y.head(5))"
   ]
  },
  {
   "cell_type": "code",
   "execution_count": 269,
   "id": "69908ec9",
   "metadata": {},
   "outputs": [],
   "source": [
    "#Normalizing the data\n",
    "scaler_s = StandardScaler()\n",
    "scaler_mm = MinMaxScaler()\n",
    "\n",
    "x_normalized = scaler_s.fit_transform(x)\n",
    "y_normalized = scaler_mm.fit_transform(y) "
   ]
  },
  {
   "cell_type": "code",
   "execution_count": 270,
   "id": "cad6ca9d",
   "metadata": {},
   "outputs": [],
   "source": [
    "# splitting the data\n",
    "size=int(len(x_normalized)*0.8)\n",
    "\n",
    "X_train = x_normalized[:size, :]\n",
    "X_test = x_normalized[size:, :]\n",
    "\n",
    "y_train = y_normalized[:size, :]\n",
    "y_test = y_normalized[size:, :]"
   ]
  },
  {
   "cell_type": "code",
   "execution_count": 271,
   "id": "623799a6",
   "metadata": {
    "scrolled": true
   },
   "outputs": [
    {
     "data": {
      "image/png": "[encoded data removed]",
      "text/plain": [
       "<Figure size 432x288 with 1 Axes>"
      ]
     },
     "metadata": {
      "needs_background": "light"
     },
     "output_type": "display_data"
    }
   ],
   "source": [
    "plt.plot(data['Close'],label='BTC daily close')\n",
    "plt.legend()\n",
    "plt.show()"
   ]
  },
  {
   "cell_type": "code",
   "execution_count": 272,
   "id": "367ebf74",
   "metadata": {},
   "outputs": [
    {
     "name": "stdout",
     "output_type": "stream",
     "text": [
      "Train set shape x,y (292, 4) (292, 1)\n",
      "Test set shape x,y  (74, 4) (74, 1)\n"
     ]
    }
   ],
   "source": [
    "print(\"Train set shape x,y\", X_train.shape, y_train.shape)\n",
    "print(\"Test set shape x,y \", X_test.shape, y_test.shape) "
   ]
  },
  {
   "cell_type": "code",
   "execution_count": 273,
   "id": "6bea5c19",
   "metadata": {},
   "outputs": [],
   "source": [
    "# transforming sets to tensors\n",
    "X_train = Variable(torch.Tensor(X_train))\n",
    "X_test = Variable(torch.Tensor(X_test))\n",
    "\n",
    "y_train = Variable(torch.Tensor(y_train))\n",
    "y_test = Variable(torch.Tensor(y_test)) "
   ]
  },
  {
   "cell_type": "code",
   "execution_count": 274,
   "id": "4e5b5743",
   "metadata": {},
   "outputs": [
    {
     "name": "stdout",
     "output_type": "stream",
     "text": [
      "Train set shape x,y torch.Size([292, 1, 4]) torch.Size([292, 1])\n",
      "Test set shape x,y  torch.Size([74, 1, 4]) torch.Size([74, 1])\n"
     ]
    }
   ],
   "source": [
    "#reshaping x tensors\n",
    "X_train_f = torch.reshape(X_train, (X_train.shape[0], 1, X_train.shape[1]) )\n",
    "\n",
    "X_test_f = torch.reshape(X_test, (X_test.shape[0], 1, X_test.shape[1]) ) \n",
    "print(\"Train set shape x,y\", X_train_f.shape, y_train.shape)\n",
    "print(\"Test set shape x,y \", X_test_f.shape, y_test.shape) "
   ]
  },
  {
   "cell_type": "code",
   "execution_count": 275,
   "id": "1bd9803c",
   "metadata": {},
   "outputs": [],
   "source": [
    "def set(x,y):\n",
    "    x=x.type(torch.FloatTensor)\n",
    "    y=y.type(torch.FloatTensor)\n",
    "    \n",
    "    train_data = []\n",
    "    for i in range(len(x)):\n",
    "        train_data.append([x[i], y[i]])\n",
    "    return train_data"
   ]
  },
  {
   "cell_type": "code",
   "execution_count": 276,
   "id": "f4eb56bf",
   "metadata": {},
   "outputs": [],
   "source": [
    "train_set=set(X_train_f,y_train)\n",
    "test_set=set(X_test_f,y_test)\n",
    "\n",
    "\n",
    "testloader = torch.utils.data.DataLoader(test_set,batch_size=64, shuffle=False)\n",
    "trainloader = torch.utils.data.DataLoader(train_set,batch_size=64, shuffle=False)"
   ]
  },
  {
   "cell_type": "code",
   "execution_count": 277,
   "id": "27e2b8f5",
   "metadata": {},
   "outputs": [
    {
     "data": {
      "image/png": "[encoded data removed]",
      "text/plain": [
       "<Figure size 432x288 with 1 Axes>"
      ]
     },
     "metadata": {
      "needs_background": "light"
     },
     "output_type": "display_data"
    }
   ],
   "source": [
    "plt.plot(y_train.numpy(),label='train')\n",
    "plt.plot(y_test.numpy(),label='test')\n",
    "plt.legend()\n",
    "plt.show()"
   ]
  },
  {
   "cell_type": "code",
   "execution_count": 278,
   "id": "79dad2d1",
   "metadata": {},
   "outputs": [],
   "source": [
    "#Model\n",
    "class MyLSTM(nn.Module):\n",
    "    def __init__(self,n_inputs,n_hidden=256,n_layers=3):\n",
    "        super().__init__()\n",
    "        self.n_hidden=n_hidden\n",
    "        \n",
    "        self.lstm=nn.LSTM(\n",
    "            input_size=n_inputs,\n",
    "            hidden_size=n_hidden,\n",
    "            num_layers=n_layers,\n",
    "            dropout=0.2,\n",
    "            batch_first=True\n",
    "        )\n",
    "        \n",
    "        self.fc1=nn.Linear(self.n_hidden,1)\n",
    "        \n",
    "    def forward(self,x):\n",
    "        _,(h_t,_)=self.lstm(x)\n",
    "        \n",
    "        x=self.fc1(h_t[-1])\n",
    "        return x"
   ]
  },
  {
   "cell_type": "code",
   "execution_count": 279,
   "id": "f34ac9e7",
   "metadata": {},
   "outputs": [],
   "source": [
    "#Init Model,criterion,optimizer\n",
    "n_inputs=4 ####\n",
    "model=MyLSTM(n_inputs)\n",
    "criterion=nn.MSELoss()\n",
    "optimizer=optim.Adam(model.parameters(),lr=0.0001)\n",
    "training_losses,validation_losses=[],[]"
   ]
  },
  {
   "cell_type": "code",
   "execution_count": 280,
   "id": "145858b6",
   "metadata": {
    "scrolled": true
   },
   "outputs": [
    {
     "name": "stdout",
     "output_type": "stream",
     "text": [
      "Epoch 10/2000,  Training loss: 0.258,  Validation loss: 0.083,  \n",
      "Saving better model\n",
      "Epoch 20/2000,  Training loss: 0.161,  Validation loss: 0.023,  \n",
      "Saving better model\n",
      "Epoch 30/2000,  Training loss: 0.028,  Validation loss: 0.001,  \n",
      "Saving better model\n",
      "Epoch 40/2000,  Training loss: 0.003,  Validation loss: 0.001,  \n",
      "Saving better model\n",
      "Epoch 50/2000,  Training loss: 0.002,  Validation loss: 0.001,  \n",
      "Saving better model\n",
      "Epoch 60/2000,  Training loss: 0.002,  Validation loss: 0.001,  \n",
      "Saving better model\n",
      "Epoch 70/2000,  Training loss: 0.002,  Validation loss: 0.001,  \n",
      "Saving better model\n",
      "Epoch 80/2000,  Training loss: 0.002,  Validation loss: 0.001,  \n",
      "Saving better model\n",
      "Epoch 90/2000,  Training loss: 0.002,  Validation loss: 0.001,  \n",
      "Epoch 100/2000,  Training loss: 0.002,  Validation loss: 0.001,  \n",
      "Saving better model\n",
      "Epoch 110/2000,  Training loss: 0.001,  Validation loss: 0.001,  \n",
      "Saving better model\n",
      "Epoch 120/2000,  Training loss: 0.001,  Validation loss: 0.001,  \n",
      "Saving better model\n",
      "Epoch 130/2000,  Training loss: 0.001,  Validation loss: 0.001,  \n",
      "Saving better model\n",
      "Epoch 140/2000,  Training loss: 0.001,  Validation loss: 0.001,  \n",
      "Epoch 150/2000,  Training loss: 0.001,  Validation loss: 0.000,  \n",
      "Saving better model\n",
      "Epoch 160/2000,  Training loss: 0.001,  Validation loss: 0.000,  \n",
      "Saving better model\n",
      "Epoch 170/2000,  Training loss: 0.001,  Validation loss: 0.000,  \n",
      "Saving better model\n",
      "Epoch 180/2000,  Training loss: 0.001,  Validation loss: 0.000,  \n",
      "Saving better model\n",
      "Epoch 190/2000,  Training loss: 0.001,  Validation loss: 0.000,  \n",
      "Saving better model\n",
      "Epoch 200/2000,  Training loss: 0.001,  Validation loss: 0.000,  \n",
      "Saving better model\n",
      "Epoch 210/2000,  Training loss: 0.001,  Validation loss: 0.000,  \n",
      "Saving better model\n",
      "Epoch 220/2000,  Training loss: 0.001,  Validation loss: 0.000,  \n",
      "Saving better model\n",
      "Epoch 230/2000,  Training loss: 0.001,  Validation loss: 0.000,  \n",
      "Saving better model\n",
      "Epoch 240/2000,  Training loss: 0.001,  Validation loss: 0.000,  \n",
      "Saving better model\n",
      "Epoch 250/2000,  Training loss: 0.001,  Validation loss: 0.000,  \n",
      "Saving better model\n",
      "Epoch 260/2000,  Training loss: 0.001,  Validation loss: 0.000,  \n",
      "Epoch 270/2000,  Training loss: 0.001,  Validation loss: 0.000,  \n",
      "Saving better model\n",
      "Epoch 280/2000,  Training loss: 0.001,  Validation loss: 0.000,  \n",
      "Saving better model\n",
      "Epoch 290/2000,  Training loss: 0.001,  Validation loss: 0.000,  \n",
      "Epoch 300/2000,  Training loss: 0.001,  Validation loss: 0.000,  \n",
      "Epoch 310/2000,  Training loss: 0.001,  Validation loss: 0.000,  \n",
      "Saving better model\n",
      "Epoch 320/2000,  Training loss: 0.001,  Validation loss: 0.000,  \n",
      "Saving better model\n",
      "Epoch 330/2000,  Training loss: 0.001,  Validation loss: 0.000,  \n",
      "Epoch 340/2000,  Training loss: 0.001,  Validation loss: 0.000,  \n",
      "Saving better model\n",
      "Epoch 350/2000,  Training loss: 0.001,  Validation loss: 0.000,  \n",
      "Saving better model\n",
      "Epoch 360/2000,  Training loss: 0.001,  Validation loss: 0.000,  \n",
      "Saving better model\n",
      "Epoch 370/2000,  Training loss: 0.001,  Validation loss: 0.000,  \n",
      "Saving better model\n",
      "Epoch 380/2000,  Training loss: 0.001,  Validation loss: 0.000,  \n",
      "Epoch 390/2000,  Training loss: 0.001,  Validation loss: 0.000,  \n",
      "Saving better model\n",
      "Epoch 400/2000,  Training loss: 0.001,  Validation loss: 0.000,  \n",
      "Epoch 410/2000,  Training loss: 0.001,  Validation loss: 0.000,  \n",
      "Saving better model\n",
      "Epoch 420/2000,  Training loss: 0.001,  Validation loss: 0.000,  \n",
      "Epoch 430/2000,  Training loss: 0.001,  Validation loss: 0.000,  \n",
      "Saving better model\n",
      "Epoch 440/2000,  Training loss: 0.001,  Validation loss: 0.000,  \n",
      "Saving better model\n",
      "Epoch 450/2000,  Training loss: 0.001,  Validation loss: 0.000,  \n",
      "Saving better model\n",
      "Epoch 460/2000,  Training loss: 0.001,  Validation loss: 0.000,  \n",
      "Saving better model\n",
      "Epoch 470/2000,  Training loss: 0.001,  Validation loss: 0.000,  \n",
      "Saving better model\n",
      "Epoch 480/2000,  Training loss: 0.001,  Validation loss: 0.000,  \n",
      "Saving better model\n",
      "Epoch 490/2000,  Training loss: 0.001,  Validation loss: 0.000,  \n",
      "Epoch 500/2000,  Training loss: 0.001,  Validation loss: 0.000,  \n",
      "Saving better model\n",
      "Epoch 510/2000,  Training loss: 0.001,  Validation loss: 0.000,  \n",
      "Saving better model\n",
      "Epoch 520/2000,  Training loss: 0.001,  Validation loss: 0.000,  \n",
      "Saving better model\n",
      "Epoch 530/2000,  Training loss: 0.001,  Validation loss: 0.000,  \n",
      "Saving better model\n",
      "Epoch 540/2000,  Training loss: 0.001,  Validation loss: 0.000,  \n",
      "Saving better model\n",
      "Epoch 550/2000,  Training loss: 0.001,  Validation loss: 0.000,  \n",
      "Saving better model\n",
      "Epoch 560/2000,  Training loss: 0.001,  Validation loss: 0.000,  \n",
      "Saving better model\n",
      "Epoch 570/2000,  Training loss: 0.001,  Validation loss: 0.000,  \n",
      "Saving better model\n",
      "Epoch 580/2000,  Training loss: 0.001,  Validation loss: 0.000,  \n",
      "Saving better model\n",
      "Epoch 590/2000,  Training loss: 0.001,  Validation loss: 0.000,  \n",
      "Epoch 600/2000,  Training loss: 0.001,  Validation loss: 0.000,  \n",
      "Saving better model\n",
      "Epoch 610/2000,  Training loss: 0.001,  Validation loss: 0.000,  \n",
      "Saving better model\n",
      "Epoch 620/2000,  Training loss: 0.001,  Validation loss: 0.000,  \n",
      "Epoch 630/2000,  Training loss: 0.001,  Validation loss: 0.000,  \n",
      "Saving better model\n",
      "Epoch 640/2000,  Training loss: 0.001,  Validation loss: 0.000,  \n",
      "Saving better model\n",
      "Epoch 650/2000,  Training loss: 0.001,  Validation loss: 0.000,  \n",
      "Saving better model\n",
      "Epoch 660/2000,  Training loss: 0.001,  Validation loss: 0.000,  \n",
      "Saving better model\n",
      "Epoch 670/2000,  Training loss: 0.001,  Validation loss: 0.000,  \n",
      "Epoch 680/2000,  Training loss: 0.001,  Validation loss: 0.000,  \n",
      "Saving better model\n",
      "Epoch 690/2000,  Training loss: 0.001,  Validation loss: 0.000,  \n",
      "Saving better model\n",
      "Epoch 700/2000,  Training loss: 0.001,  Validation loss: 0.000,  \n",
      "Epoch 710/2000,  Training loss: 0.001,  Validation loss: 0.000,  \n",
      "Saving better model\n",
      "Epoch 720/2000,  Training loss: 0.001,  Validation loss: 0.000,  \n",
      "Saving better model\n",
      "Epoch 730/2000,  Training loss: 0.001,  Validation loss: 0.000,  \n",
      "Saving better model\n",
      "Epoch 740/2000,  Training loss: 0.001,  Validation loss: 0.000,  \n",
      "Epoch 750/2000,  Training loss: 0.001,  Validation loss: 0.000,  \n",
      "Saving better model\n",
      "Epoch 760/2000,  Training loss: 0.001,  Validation loss: 0.000,  \n",
      "Epoch 770/2000,  Training loss: 0.001,  Validation loss: 0.000,  \n",
      "Saving better model\n",
      "Epoch 780/2000,  Training loss: 0.001,  Validation loss: 0.000,  \n",
      "Epoch 790/2000,  Training loss: 0.001,  Validation loss: 0.000,  \n",
      "Epoch 800/2000,  Training loss: 0.001,  Validation loss: 0.000,  \n",
      "Saving better model\n",
      "Epoch 810/2000,  Training loss: 0.001,  Validation loss: 0.000,  \n",
      "Epoch 820/2000,  Training loss: 0.001,  Validation loss: 0.000,  \n",
      "Saving better model\n",
      "Epoch 830/2000,  Training loss: 0.001,  Validation loss: 0.000,  \n",
      "Saving better model\n",
      "Epoch 840/2000,  Training loss: 0.001,  Validation loss: 0.000,  \n",
      "Saving better model\n",
      "Epoch 850/2000,  Training loss: 0.001,  Validation loss: 0.000,  \n",
      "Epoch 860/2000,  Training loss: 0.001,  Validation loss: 0.000,  \n",
      "Saving better model\n",
      "Epoch 870/2000,  Training loss: 0.001,  Validation loss: 0.000,  \n",
      "Epoch 880/2000,  Training loss: 0.001,  Validation loss: 0.000,  \n",
      "Saving better model\n",
      "Epoch 890/2000,  Training loss: 0.001,  Validation loss: 0.000,  \n",
      "Saving better model\n",
      "Epoch 900/2000,  Training loss: 0.001,  Validation loss: 0.000,  \n",
      "Epoch 910/2000,  Training loss: 0.001,  Validation loss: 0.000,  \n",
      "Epoch 920/2000,  Training loss: 0.001,  Validation loss: 0.000,  \n",
      "Epoch 930/2000,  Training loss: 0.001,  Validation loss: 0.000,  \n",
      "Epoch 940/2000,  Training loss: 0.001,  Validation loss: 0.000,  \n",
      "Saving better model\n",
      "Epoch 950/2000,  Training loss: 0.001,  Validation loss: 0.000,  \n",
      "Saving better model\n",
      "Epoch 960/2000,  Training loss: 0.001,  Validation loss: 0.000,  \n",
      "Epoch 970/2000,  Training loss: 0.001,  Validation loss: 0.000,  \n",
      "Saving better model\n",
      "Epoch 980/2000,  Training loss: 0.001,  Validation loss: 0.000,  \n",
      "Epoch 990/2000,  Training loss: 0.001,  Validation loss: 0.000,  \n",
      "Epoch 1000/2000,  Training loss: 0.001,  Validation loss: 0.000,  \n",
      "Epoch 1010/2000,  Training loss: 0.001,  Validation loss: 0.000,  \n",
      "Saving better model\n",
      "Epoch 1020/2000,  Training loss: 0.001,  Validation loss: 0.000,  \n",
      "Epoch 1030/2000,  Training loss: 0.001,  Validation loss: 0.000,  \n"
     ]
    },
    {
     "name": "stdout",
     "output_type": "stream",
     "text": [
      "Epoch 1040/2000,  Training loss: 0.001,  Validation loss: 0.000,  \n",
      "Epoch 1050/2000,  Training loss: 0.001,  Validation loss: 0.000,  \n",
      "Saving better model\n",
      "Epoch 1060/2000,  Training loss: 0.001,  Validation loss: 0.000,  \n",
      "Epoch 1070/2000,  Training loss: 0.001,  Validation loss: 0.000,  \n",
      "Epoch 1080/2000,  Training loss: 0.001,  Validation loss: 0.000,  \n",
      "Saving better model\n",
      "Epoch 1090/2000,  Training loss: 0.001,  Validation loss: 0.000,  \n",
      "Epoch 1100/2000,  Training loss: 0.001,  Validation loss: 0.000,  \n",
      "Epoch 1110/2000,  Training loss: 0.001,  Validation loss: 0.000,  \n",
      "Epoch 1120/2000,  Training loss: 0.001,  Validation loss: 0.000,  \n",
      "Epoch 1130/2000,  Training loss: 0.001,  Validation loss: 0.000,  \n",
      "Epoch 1140/2000,  Training loss: 0.001,  Validation loss: 0.000,  \n",
      "Epoch 1150/2000,  Training loss: 0.001,  Validation loss: 0.000,  \n",
      "Saving better model\n",
      "Epoch 1160/2000,  Training loss: 0.001,  Validation loss: 0.000,  \n",
      "Epoch 1170/2000,  Training loss: 0.001,  Validation loss: 0.000,  \n",
      "Epoch 1180/2000,  Training loss: 0.001,  Validation loss: 0.000,  \n",
      "Epoch 1190/2000,  Training loss: 0.001,  Validation loss: 0.000,  \n",
      "Saving better model\n",
      "Epoch 1200/2000,  Training loss: 0.001,  Validation loss: 0.000,  \n",
      "Epoch 1210/2000,  Training loss: 0.001,  Validation loss: 0.000,  \n",
      "Epoch 1220/2000,  Training loss: 0.001,  Validation loss: 0.000,  \n",
      "Epoch 1230/2000,  Training loss: 0.001,  Validation loss: 0.000,  \n",
      "Epoch 1240/2000,  Training loss: 0.001,  Validation loss: 0.000,  \n",
      "Epoch 1250/2000,  Training loss: 0.001,  Validation loss: 0.000,  \n",
      "Epoch 1260/2000,  Training loss: 0.001,  Validation loss: 0.000,  \n",
      "Epoch 1270/2000,  Training loss: 0.001,  Validation loss: 0.000,  \n",
      "Epoch 1280/2000,  Training loss: 0.001,  Validation loss: 0.000,  \n",
      "Epoch 1290/2000,  Training loss: 0.001,  Validation loss: 0.000,  \n",
      "Epoch 1300/2000,  Training loss: 0.001,  Validation loss: 0.000,  \n",
      "Saving better model\n",
      "Epoch 1310/2000,  Training loss: 0.001,  Validation loss: 0.000,  \n",
      "Epoch 1320/2000,  Training loss: 0.001,  Validation loss: 0.000,  \n",
      "Epoch 1330/2000,  Training loss: 0.001,  Validation loss: 0.000,  \n",
      "Epoch 1340/2000,  Training loss: 0.001,  Validation loss: 0.000,  \n",
      "Epoch 1350/2000,  Training loss: 0.001,  Validation loss: 0.000,  \n",
      "Epoch 1360/2000,  Training loss: 0.001,  Validation loss: 0.000,  \n",
      "Epoch 1370/2000,  Training loss: 0.001,  Validation loss: 0.000,  \n",
      "Epoch 1380/2000,  Training loss: 0.001,  Validation loss: 0.000,  \n",
      "Epoch 1390/2000,  Training loss: 0.001,  Validation loss: 0.000,  \n",
      "Epoch 1400/2000,  Training loss: 0.001,  Validation loss: 0.000,  \n",
      "Epoch 1410/2000,  Training loss: 0.001,  Validation loss: 0.000,  \n",
      "Epoch 1420/2000,  Training loss: 0.001,  Validation loss: 0.000,  \n",
      "Epoch 1430/2000,  Training loss: 0.001,  Validation loss: 0.000,  \n",
      "Epoch 1440/2000,  Training loss: 0.001,  Validation loss: 0.000,  \n",
      "Epoch 1450/2000,  Training loss: 0.001,  Validation loss: 0.000,  \n",
      "Epoch 1460/2000,  Training loss: 0.001,  Validation loss: 0.000,  \n",
      "Epoch 1470/2000,  Training loss: 0.001,  Validation loss: 0.000,  \n",
      "Epoch 1480/2000,  Training loss: 0.001,  Validation loss: 0.000,  \n",
      "Epoch 1490/2000,  Training loss: 0.001,  Validation loss: 0.000,  \n",
      "Epoch 1500/2000,  Training loss: 0.001,  Validation loss: 0.000,  \n",
      "Epoch 1510/2000,  Training loss: 0.001,  Validation loss: 0.000,  \n",
      "Epoch 1520/2000,  Training loss: 0.001,  Validation loss: 0.000,  \n",
      "Epoch 1530/2000,  Training loss: 0.001,  Validation loss: 0.000,  \n",
      "Epoch 1540/2000,  Training loss: 0.001,  Validation loss: 0.000,  \n",
      "Epoch 1550/2000,  Training loss: 0.001,  Validation loss: 0.000,  \n",
      "Epoch 1560/2000,  Training loss: 0.001,  Validation loss: 0.000,  \n",
      "Epoch 1570/2000,  Training loss: 0.001,  Validation loss: 0.000,  \n",
      "Epoch 1580/2000,  Training loss: 0.001,  Validation loss: 0.000,  \n",
      "Epoch 1590/2000,  Training loss: 0.001,  Validation loss: 0.000,  \n",
      "Epoch 1600/2000,  Training loss: 0.001,  Validation loss: 0.000,  \n",
      "Epoch 1610/2000,  Training loss: 0.001,  Validation loss: 0.000,  \n",
      "Epoch 1620/2000,  Training loss: 0.001,  Validation loss: 0.000,  \n",
      "Epoch 1630/2000,  Training loss: 0.001,  Validation loss: 0.000,  \n",
      "Epoch 1640/2000,  Training loss: 0.001,  Validation loss: 0.000,  \n",
      "Epoch 1650/2000,  Training loss: 0.001,  Validation loss: 0.000,  \n",
      "Epoch 1660/2000,  Training loss: 0.001,  Validation loss: 0.000,  \n",
      "Epoch 1670/2000,  Training loss: 0.001,  Validation loss: 0.000,  \n",
      "Epoch 1680/2000,  Training loss: 0.001,  Validation loss: 0.000,  \n",
      "Epoch 1690/2000,  Training loss: 0.001,  Validation loss: 0.000,  \n",
      "Epoch 1700/2000,  Training loss: 0.001,  Validation loss: 0.000,  \n",
      "Epoch 1710/2000,  Training loss: 0.001,  Validation loss: 0.000,  \n",
      "Epoch 1720/2000,  Training loss: 0.001,  Validation loss: 0.000,  \n",
      "Epoch 1730/2000,  Training loss: 0.001,  Validation loss: 0.000,  \n",
      "Epoch 1740/2000,  Training loss: 0.001,  Validation loss: 0.000,  \n",
      "Epoch 1750/2000,  Training loss: 0.001,  Validation loss: 0.000,  \n",
      "Epoch 1760/2000,  Training loss: 0.001,  Validation loss: 0.000,  \n",
      "Epoch 1770/2000,  Training loss: 0.001,  Validation loss: 0.000,  \n",
      "Epoch 1780/2000,  Training loss: 0.001,  Validation loss: 0.000,  \n",
      "Epoch 1790/2000,  Training loss: 0.001,  Validation loss: 0.000,  \n",
      "Epoch 1800/2000,  Training loss: 0.001,  Validation loss: 0.000,  \n",
      "Epoch 1810/2000,  Training loss: 0.001,  Validation loss: 0.000,  \n",
      "Epoch 1820/2000,  Training loss: 0.001,  Validation loss: 0.000,  \n",
      "Epoch 1830/2000,  Training loss: 0.001,  Validation loss: 0.000,  \n",
      "Epoch 1840/2000,  Training loss: 0.001,  Validation loss: 0.000,  \n",
      "Epoch 1850/2000,  Training loss: 0.000,  Validation loss: 0.000,  \n",
      "Epoch 1860/2000,  Training loss: 0.000,  Validation loss: 0.000,  \n",
      "Epoch 1870/2000,  Training loss: 0.001,  Validation loss: 0.000,  \n",
      "Epoch 1880/2000,  Training loss: 0.001,  Validation loss: 0.000,  \n",
      "Epoch 1890/2000,  Training loss: 0.001,  Validation loss: 0.000,  \n",
      "Epoch 1900/2000,  Training loss: 0.001,  Validation loss: 0.000,  \n",
      "Epoch 1910/2000,  Training loss: 0.001,  Validation loss: 0.000,  \n",
      "Epoch 1920/2000,  Training loss: 0.001,  Validation loss: 0.000,  \n",
      "Epoch 1930/2000,  Training loss: 0.001,  Validation loss: 0.000,  \n",
      "Epoch 1940/2000,  Training loss: 0.001,  Validation loss: 0.000,  \n",
      "Epoch 1950/2000,  Training loss: 0.001,  Validation loss: 0.000,  \n",
      "Epoch 1960/2000,  Training loss: 0.001,  Validation loss: 0.000,  \n",
      "Epoch 1970/2000,  Training loss: 0.000,  Validation loss: 0.000,  \n",
      "Epoch 1980/2000,  Training loss: 0.001,  Validation loss: 0.000,  \n",
      "Epoch 1990/2000,  Training loss: 0.001,  Validation loss: 0.000,  \n",
      "Epoch 2000/2000,  Training loss: 0.001,  Validation loss: 0.000,  \n"
     ]
    }
   ],
   "source": [
    "#Model Training\n",
    "\n",
    "device = torch.device(\"cuda\" if torch.cuda.is_available() else \"cpu\")\n",
    "epochs= 2000\n",
    "steps,running_loss,test_loss=0,0,0\n",
    "model.to(device)\n",
    "min_validation_loss=np.Infinity\n",
    "validate_every = 50\n",
    "\n",
    "for e in range(epochs):\n",
    "    \n",
    "    #training\n",
    "    for inputs, labels in trainloader:###\n",
    "        steps+=1\n",
    "        inputs, labels= inputs.to(device), labels.to(device)\n",
    "        \n",
    "        optimizer.zero_grad()\n",
    "        logps = model.forward(inputs)\n",
    "        loss = criterion(logps, labels)\n",
    "        loss.backward()\n",
    "        optimizer.step()\n",
    "        running_loss += loss.item()\n",
    "        \n",
    "        #testing\n",
    "        if steps % validate_every == 0:\n",
    "            validation_loss = 0\n",
    "            model.eval()\n",
    "            with torch.no_grad():\n",
    "                for inputs, labels in testloader:\n",
    "                    inputs, labels= inputs.to(device), labels.to(device)\n",
    "                    logps = model.forward(inputs)\n",
    "                    v_loss = criterion(logps, labels)\n",
    "                    validation_loss+=v_loss.item()\n",
    "            \n",
    "            model.train()\n",
    "            \n",
    "            avg_validation_loss=validation_loss/len(testloader)\n",
    "            \n",
    "            print(f\"Epoch {e+1}/{epochs},  \"\n",
    "                  f\"Training loss: {running_loss/validate_every:.3f},  \"\n",
    "                  f\"Validation loss: {avg_validation_loss:.3f},  \")\n",
    "            \n",
    "            training_losses.append(running_loss/validate_every)\n",
    "            validation_losses.append(avg_validation_loss)\n",
    "            \n",
    "            #Saving better model\n",
    "            if avg_validation_loss<min_validation_loss:\n",
    "                print(f\"Saving better model\")\n",
    "                min_validation_loss=avg_validation_loss\n",
    "                torch.save( model.state_dict(), 'lstm_model_dict.pt')\n",
    "              \n",
    "            running_loss = 0\n"
   ]
  },
  {
   "cell_type": "code",
   "execution_count": 281,
   "id": "8fbdd5df",
   "metadata": {},
   "outputs": [
    {
     "data": {
      "image/png": "[encoded data removed]",
      "text/plain": [
       "<Figure size 432x288 with 1 Axes>"
      ]
     },
     "metadata": {
      "needs_background": "light"
     },
     "output_type": "display_data"
    }
   ],
   "source": [
    "#plotting Losses\n",
    "\n",
    "plt.plot(training_losses,label='Train loss')\n",
    "plt.plot(validation_losses,label='Validation loss')\n",
    "plt.legend()\n",
    "plt.show()"
   ]
  },
  {
   "cell_type": "code",
   "execution_count": 282,
   "id": "8ff9f15f",
   "metadata": {},
   "outputs": [
    {
     "data": {
      "text/plain": [
       "<All keys matched successfully>"
      ]
     },
     "execution_count": 282,
     "metadata": {},
     "output_type": "execute_result"
    }
   ],
   "source": [
    "#Loading the best model after training\n",
    "model.load_state_dict(torch.load('lstm_model_dict.pt'))"
   ]
  },
  {
   "cell_type": "code",
   "execution_count": 283,
   "id": "2d39297b",
   "metadata": {},
   "outputs": [
    {
     "data": {
      "text/plain": [
       "MyLSTM(\n",
       "  (lstm): LSTM(4, 256, num_layers=3, batch_first=True, dropout=0.2)\n",
       "  (fc1): Linear(in_features=256, out_features=1, bias=True)\n",
       ")"
      ]
     },
     "execution_count": 283,
     "metadata": {},
     "output_type": "execute_result"
    }
   ],
   "source": [
    "#predicting the testing set\n",
    "model.eval()\n",
    "prediction=[]\n",
    "labelss=[]       \n",
    "with torch.no_grad():\n",
    "    for inputs, labels in testloader:\n",
    "        inputs, labels= inputs.to(device), labels.to(device)\n",
    "        logps = model.forward(inputs).cpu().data.numpy()\n",
    "        prediction+=(logps.tolist())\n",
    "        labelss+=labels.tolist()\n",
    "        \n",
    "model.train()"
   ]
  },
  {
   "cell_type": "code",
   "execution_count": 315,
   "id": "93e9a697",
   "metadata": {
    "scrolled": false
   },
   "outputs": [
    {
     "data": {
      "image/png": "[encoded data removed]",
      "text/plain": [
       "<Figure size 432x288 with 1 Axes>"
      ]
     },
     "metadata": {
      "needs_background": "light"
     },
     "output_type": "display_data"
    }
   ],
   "source": [
    "#plotting the predictions \n",
    "prediction_f=scaler_mm.inverse_transform(prediction) \n",
    "labels_f=scaler_mm.inverse_transform(labelss) \n",
    "plt.plot(prediction_f,label='prediction')\n",
    "plt.plot(labels_f,label='labels')\n",
    "plt.legend()\n",
    "plt.show()"
   ]
  },
  {
   "cell_type": "code",
   "execution_count": null,
   "id": "d3146b4a",
   "metadata": {},
   "outputs": [],
   "source": [
    "# model.eval()\n",
    "# prediction=[]\n",
    "# labelss=[]\n",
    "# # output=[]\n",
    "# with torch.no_grad():\n",
    "#     inputs, labels in testloader\n",
    "#     inputs, labels= inputs.to(device), labels.to(device)\n",
    "#     logps = model.forward(inputs[-9:])\n",
    "#     logps=logps.cpu().data.numpy()\n",
    "#     prediction+=(logps.tolist())\n",
    "#     labelss+=labels.tolist()\n",
    "#     print(inputs.shape)\n",
    "# model.train()"
   ]
  },
  {
   "cell_type": "code",
   "execution_count": 312,
   "id": "4c081b1b",
   "metadata": {},
   "outputs": [
    {
     "name": "stdout",
     "output_type": "stream",
     "text": [
      "[[58021.95]]\n"
     ]
    }
   ],
   "source": [
    "# predicting the closing price of a day\n",
    "\n",
    "input_val = {\n",
    "    'Open' : [57714.66406],\n",
    "    'High': [58448.33984],\n",
    "    'Low' : [57052.27344],\n",
    "    'Sentiment' : [68],\n",
    "}\n",
    "model.eval()\n",
    "with torch.no_grad():\n",
    "    tx=pd.DataFrame(input_val)\n",
    "    tx = scaler_s.transform(tx)\n",
    "    tx=Variable(torch.Tensor(tx))\n",
    "    tx = torch.reshape(tx, (tx.shape[0], 1, tx.shape[1]) )\n",
    "    pred=model.forward(tx).cpu().data.numpy()\n",
    "    pred=scaler_mm.inverse_transform(pred) \n",
    "model.train()\n",
    "print(pred)\n"
   ]
  },
  {
   "cell_type": "code",
   "execution_count": null,
   "id": "b054b58b",
   "metadata": {},
   "outputs": [],
   "source": [
    "# prediction_f=scaler_mm.inverse_transform(prediction) \n",
    "# labels_f=scaler_mm.inverse_transform(labelss) \n",
    "# s=np.array(output)\n",
    "\n",
    "# plt.plot(prediction_f,label='prediction')\n",
    "# plt.plot(labels_f,label='labels')\n",
    "# plt.plot(s[-1].reshape(-1, 1),label='output')\n",
    "\n",
    "\n",
    "# plt.legend()\n",
    "# plt.show()\n",
    "# # prediction=np.array(prediction)\n"
   ]
  },
  {
   "cell_type": "code",
   "execution_count": 314,
   "id": "527347e7",
   "metadata": {},
   "outputs": [],
   "source": [
    "#Saving Model\n",
    "checkpoint={'state_dict': model.state_dict(),\n",
    "            'inputs': n_inputs,\n",
    "            'optimizer': optimizer,\n",
    "            'criterion': criterion,\n",
    "            'input_scaler_standard': scaler_s,\n",
    "            'output_scaler_midmax': scaler_mm,\n",
    "            'model': model}\n",
    "torch.save(checkpoint, 'checkpoint-sentiment.pth')"
   ]
  },
  {
   "cell_type": "code",
   "execution_count": null,
   "id": "33de5025",
   "metadata": {},
   "outputs": [],
   "source": []
  }
 ],
 "metadata": {
  "kernelspec": {
   "display_name": "Python 3 (ipykernel)",
   "language": "python",
   "name": "python3"
  },
  "language_info": {
   "codemirror_mode": {
    "name": "ipython",
    "version": 3
   },
   "file_extension": ".py",
   "mimetype": "text/x-python",
   "name": "python",
   "nbconvert_exporter": "python",
   "pygments_lexer": "ipython3",
   "version": "3.9.7"
  }
 },
 "nbformat": 4,
 "nbformat_minor": 5
}
